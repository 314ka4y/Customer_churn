{
 "cells": [
  {
   "cell_type": "markdown",
   "id": "3959122b",
   "metadata": {},
   "source": [
    "# Vision Zero, Chicago, modeling car crashes with injuries."
   ]
  },
  {
   "cell_type": "markdown",
   "id": "52999b83",
   "metadata": {},
   "source": [
    "# Overview\n",
    "I was hired by a government agency CMAP (Chicago Metropolitan Agency for Planning) to create a model which predicts injuries during car crashes based on information collected by Chicago Police Department (CPD). I  concluded that there are many features that determine the oucome of car crash(overall 200 features, only 31 were used in our model), some of them: type of crash , day, season, time, type of crash, are there injuried people, phyesical imparement factors(drugs, alchogol, distraction etc), speed limit, weather, lightning and road conditions etc .\n",
    "\n",
    "To acheive my goal, I trained more than 100 models and tuned hyperparameters, model types that were used: \n",
    "- LogisticRegression\n",
    "- KNN\n",
    "- Naive Bayes(different type) \n",
    "- DecisionTree\n",
    "- Random Forest\n",
    "- ADA Boost\n",
    "- Gradient boost\n",
    "- XGB Classifier\n",
    "\n",
    "\n",
    "# Business Understanding\n",
    "Our stakeholder wants to understand what factors of crash influence on injury outcome as the last possible outcome. They perfectly understand that car crashes will be happening but they want to reduce the number of injuries because individual health prevails under public mobility. \n",
    "\n",
    "# Data\n",
    "\n",
    "1) Database Traffic Crashes - Crashes. Years: 2017 - now\n",
    "Provided by City of Chicago\n",
    "\n",
    "https://data.cityofchicago.org/Transportation/Traffic-Crashes-Crashes/85ca-t3if \n",
    "\n",
    "2) Database Traffic Crashes - People. Years: 2017 - now\n",
    "Provided by City of Chicago\n",
    "\n",
    "https://data.cityofchicago.org/Transportation/Traffic-Crashes-People/u6pd-qa9d\n",
    "\n",
    "3) Database Traffic Crashes - Vehicles. Years: 2017 - now\n",
    "Provided by City of Chicago  \n",
    "\n",
    "https://data.cityofchicago.org/Transportation/Traffic-Crashes-Vehicles/68nd-jvt3\n",
    "\n",
    "##### In my research I used data for 2021 year.\n",
    "\n",
    "# Metrics\n",
    "#### Our project will answer following question:\n",
    "Can we predict that customer will subsribe for bank product?\n",
    "\n",
    "#### Hypothesis:\n",
    "H0 - Customer will not subscribe\n",
    "\n",
    "HA - There is a significant evidence that customer will subscriber to our services\n",
    "\n",
    "#### TP, TN, FP, FN definition\n",
    "TP - We predicted that customer subscribe and it happened\n",
    "\n",
    "TN - We predicted that customer wouldn't not subscribe and it didn't happened\n",
    "\n",
    "FP - We predicted that customer subscribe, but they didn't.\n",
    "\n",
    "FN - We predicted that customer not subscribe but they subscribed. \n",
    "\n",
    "\n",
    "#### Metrics used  \n",
    "To compare models we will focus on 2 major metrics:\n",
    "\n",
    "Accuracy - how good we can predict TP and TN. General metrics that will show model performance.\n",
    "\n",
    "Recall - We work under assumption that the cost of contact is diminishiely low compare to the possible profit of customer signed. So we are interested in catching as much as possible possible signed up customers and minimizing FN. I will use recall as the second metric\n"
   ]
  },
  {
   "cell_type": "markdown",
   "id": "edcdcd20",
   "metadata": {},
   "source": [
    "\n",
    "# Data Understanding\n",
    "#### Sources of data:\n",
    "1) Database Traffic Crashes - Crashes. Years: 2017 - now\n",
    "Covers: Main characteristics of car crash.\n",
    "Provided by City of Chicago \n",
    "https://data.cityofchicago.org/Transportation/Traffic-Crashes-Crashes/85ca-t3if\n",
    "\n",
    "2) Database Traffic Crashes - People. Years: 2017 - now\n",
    "Covers: People/drivers involved in car crash.\n",
    "Provided by City of Chicago \n",
    "https://data.cityofchicago.org/Transportation/Traffic-Crashes-People/u6pd-qa9d\n",
    "\n",
    "3) Database Traffic Crashes - Vehicles. Years: 2017 - now\n",
    "Covers: Vehicles involved in car crash.\n",
    "Provided by City of Chicago \n",
    "https://data.cityofchicago.org/Transportation/Traffic-Crashes-Vehicles/68nd-jvt3\n",
    "\n",
    "#### Main dataset contains the following columns:\n",
    "'CRASH_RECORD_ID',  - unique ID related to crash \n",
    "\n"
   ]
  },
  {
   "cell_type": "markdown",
   "id": "24102ee3",
   "metadata": {},
   "source": [
    "# Data Cleaning\n",
    "### Importing required modules"
   ]
  },
  {
   "cell_type": "code",
   "execution_count": 1,
   "id": "4b0985f7",
   "metadata": {},
   "outputs": [],
   "source": [
    "# Work with data\n",
    "import pandas as pd\n",
    "import numpy as np\n",
    "from scipy import stats as stats\n",
    "\n",
    "# Visualizations\n",
    "import seaborn as sns\n",
    "import matplotlib.pyplot as plt\n",
    "\n",
    "#Modeling\n",
    "from imblearn.over_sampling import SMOTE\n",
    "from sklearn.preprocessing import OneHotEncoder, StandardScaler, PolynomialFeatures\n",
    "from sklearn.linear_model import LogisticRegression\n",
    "from sklearn.tree import DecisionTreeClassifier, plot_tree\n",
    "from sklearn.naive_bayes import MultinomialNB, ComplementNB, BernoulliNB, GaussianNB\n",
    "from sklearn.model_selection import GridSearchCV, cross_val_score, cross_validate, KFold, StratifiedKFold, train_test_split\n",
    "from sklearn.ensemble import RandomForestClassifier, GradientBoostingClassifier, AdaBoostClassifier\n",
    "from sklearn.metrics import ConfusionMatrixDisplay, confusion_matrix, classification_report, roc_curve, plot_roc_curve, roc_auc_score, accuracy_score, recall_score, f1_score\n",
    "from xgboost import XGBClassifier\n",
    "\n",
    "#Other\n",
    "import pickle\n",
    "import time\n",
    "import gzip\n",
    "from zipfile import ZipFile\n",
    "\n",
    "\n",
    "from warnings import simplefilter\n",
    "from sklearn.exceptions import ConvergenceWarning, FitFailedWarning\n",
    "simplefilter(action='ignore', category= FutureWarning)\n",
    "simplefilter(action='ignore', category= ConvergenceWarning)\n",
    "simplefilter(action='ignore', category= FitFailedWarning)\n",
    "simplefilter(action='ignore', category= UserWarning)\n",
    "\n",
    "\n",
    "\n",
    "\n",
    "  \n",
    "\n",
    "\n"
   ]
  },
  {
   "cell_type": "markdown",
   "id": "9508df54",
   "metadata": {},
   "source": [
    "### Importing data"
   ]
  },
  {
   "cell_type": "code",
   "execution_count": 2,
   "id": "bdfe71d1",
   "metadata": {},
   "outputs": [],
   "source": [
    "df = pd.read_csv(\"./data/Casestudy Data.csv\")"
   ]
  },
  {
   "cell_type": "markdown",
   "id": "63fede57",
   "metadata": {},
   "source": [
    "##### 1) Data Inspection"
   ]
  },
  {
   "cell_type": "code",
   "execution_count": 3,
   "id": "741dc469",
   "metadata": {},
   "outputs": [
    {
     "data": {
      "text/html": [
       "<div>\n",
       "<style scoped>\n",
       "    .dataframe tbody tr th:only-of-type {\n",
       "        vertical-align: middle;\n",
       "    }\n",
       "\n",
       "    .dataframe tbody tr th {\n",
       "        vertical-align: top;\n",
       "    }\n",
       "\n",
       "    .dataframe thead th {\n",
       "        text-align: right;\n",
       "    }\n",
       "</style>\n",
       "<table border=\"1\" class=\"dataframe\">\n",
       "  <thead>\n",
       "    <tr style=\"text-align: right;\">\n",
       "      <th></th>\n",
       "      <th>age</th>\n",
       "      <th>job</th>\n",
       "      <th>marital</th>\n",
       "      <th>education</th>\n",
       "      <th>default</th>\n",
       "      <th>housing</th>\n",
       "      <th>loan</th>\n",
       "      <th>contact</th>\n",
       "      <th>month</th>\n",
       "      <th>day_of_week</th>\n",
       "      <th>...</th>\n",
       "      <th>campaign</th>\n",
       "      <th>pdays</th>\n",
       "      <th>previous</th>\n",
       "      <th>poutcome</th>\n",
       "      <th>emp.var.rate</th>\n",
       "      <th>cons.price.idx</th>\n",
       "      <th>cons.conf.idx</th>\n",
       "      <th>euribor3m</th>\n",
       "      <th>nr.employed</th>\n",
       "      <th>y</th>\n",
       "    </tr>\n",
       "  </thead>\n",
       "  <tbody>\n",
       "    <tr>\n",
       "      <th>0</th>\n",
       "      <td>56.0</td>\n",
       "      <td>housemaid</td>\n",
       "      <td>married</td>\n",
       "      <td>basic.4y</td>\n",
       "      <td>no</td>\n",
       "      <td>no</td>\n",
       "      <td>no</td>\n",
       "      <td>telephone</td>\n",
       "      <td>may</td>\n",
       "      <td>mon</td>\n",
       "      <td>...</td>\n",
       "      <td>1</td>\n",
       "      <td>999</td>\n",
       "      <td>0</td>\n",
       "      <td>nonexistent</td>\n",
       "      <td>1.1</td>\n",
       "      <td>93.994</td>\n",
       "      <td>-36.4</td>\n",
       "      <td>4.857</td>\n",
       "      <td>5191.0</td>\n",
       "      <td>no</td>\n",
       "    </tr>\n",
       "    <tr>\n",
       "      <th>1</th>\n",
       "      <td>57.0</td>\n",
       "      <td>services</td>\n",
       "      <td>married</td>\n",
       "      <td>high.school</td>\n",
       "      <td>unknown</td>\n",
       "      <td>no</td>\n",
       "      <td>no</td>\n",
       "      <td>telephone</td>\n",
       "      <td>may</td>\n",
       "      <td>mon</td>\n",
       "      <td>...</td>\n",
       "      <td>1</td>\n",
       "      <td>999</td>\n",
       "      <td>0</td>\n",
       "      <td>nonexistent</td>\n",
       "      <td>1.1</td>\n",
       "      <td>93.994</td>\n",
       "      <td>-36.4</td>\n",
       "      <td>4.857</td>\n",
       "      <td>5191.0</td>\n",
       "      <td>no</td>\n",
       "    </tr>\n",
       "    <tr>\n",
       "      <th>2</th>\n",
       "      <td>37.0</td>\n",
       "      <td>services</td>\n",
       "      <td>married</td>\n",
       "      <td>high.school</td>\n",
       "      <td>no</td>\n",
       "      <td>yes</td>\n",
       "      <td>no</td>\n",
       "      <td>telephone</td>\n",
       "      <td>may</td>\n",
       "      <td>mon</td>\n",
       "      <td>...</td>\n",
       "      <td>1</td>\n",
       "      <td>999</td>\n",
       "      <td>0</td>\n",
       "      <td>nonexistent</td>\n",
       "      <td>1.1</td>\n",
       "      <td>NaN</td>\n",
       "      <td>-36.4</td>\n",
       "      <td>4.857</td>\n",
       "      <td>5191.0</td>\n",
       "      <td>no</td>\n",
       "    </tr>\n",
       "    <tr>\n",
       "      <th>3</th>\n",
       "      <td>40.0</td>\n",
       "      <td>admin.</td>\n",
       "      <td>married</td>\n",
       "      <td>basic.6y</td>\n",
       "      <td>no</td>\n",
       "      <td>no</td>\n",
       "      <td>no</td>\n",
       "      <td>telephone</td>\n",
       "      <td>may</td>\n",
       "      <td>mon</td>\n",
       "      <td>...</td>\n",
       "      <td>1</td>\n",
       "      <td>999</td>\n",
       "      <td>0</td>\n",
       "      <td>nonexistent</td>\n",
       "      <td>1.1</td>\n",
       "      <td>93.994</td>\n",
       "      <td>-36.4</td>\n",
       "      <td>4.857</td>\n",
       "      <td>5191.0</td>\n",
       "      <td>no</td>\n",
       "    </tr>\n",
       "    <tr>\n",
       "      <th>4</th>\n",
       "      <td>56.0</td>\n",
       "      <td>services</td>\n",
       "      <td>married</td>\n",
       "      <td>high.school</td>\n",
       "      <td>no</td>\n",
       "      <td>no</td>\n",
       "      <td>yes</td>\n",
       "      <td>telephone</td>\n",
       "      <td>may</td>\n",
       "      <td>mon</td>\n",
       "      <td>...</td>\n",
       "      <td>1</td>\n",
       "      <td>999</td>\n",
       "      <td>0</td>\n",
       "      <td>nonexistent</td>\n",
       "      <td>1.1</td>\n",
       "      <td>NaN</td>\n",
       "      <td>-36.4</td>\n",
       "      <td>4.857</td>\n",
       "      <td>5191.0</td>\n",
       "      <td>no</td>\n",
       "    </tr>\n",
       "  </tbody>\n",
       "</table>\n",
       "<p>5 rows × 21 columns</p>\n",
       "</div>"
      ],
      "text/plain": [
       "    age        job  marital    education  default housing loan    contact  \\\n",
       "0  56.0  housemaid  married     basic.4y       no      no   no  telephone   \n",
       "1  57.0   services  married  high.school  unknown      no   no  telephone   \n",
       "2  37.0   services  married  high.school       no     yes   no  telephone   \n",
       "3  40.0     admin.  married     basic.6y       no      no   no  telephone   \n",
       "4  56.0   services  married  high.school       no      no  yes  telephone   \n",
       "\n",
       "  month day_of_week  ...  campaign  pdays  previous     poutcome emp.var.rate  \\\n",
       "0   may         mon  ...         1    999         0  nonexistent          1.1   \n",
       "1   may         mon  ...         1    999         0  nonexistent          1.1   \n",
       "2   may         mon  ...         1    999         0  nonexistent          1.1   \n",
       "3   may         mon  ...         1    999         0  nonexistent          1.1   \n",
       "4   may         mon  ...         1    999         0  nonexistent          1.1   \n",
       "\n",
       "   cons.price.idx  cons.conf.idx  euribor3m  nr.employed   y  \n",
       "0          93.994          -36.4      4.857       5191.0  no  \n",
       "1          93.994          -36.4      4.857       5191.0  no  \n",
       "2             NaN          -36.4      4.857       5191.0  no  \n",
       "3          93.994          -36.4      4.857       5191.0  no  \n",
       "4             NaN          -36.4      4.857       5191.0  no  \n",
       "\n",
       "[5 rows x 21 columns]"
      ]
     },
     "execution_count": 3,
     "metadata": {},
     "output_type": "execute_result"
    }
   ],
   "source": [
    "# Check how data looks\n",
    "df.head()"
   ]
  },
  {
   "cell_type": "code",
   "execution_count": 4,
   "id": "43694616",
   "metadata": {},
   "outputs": [
    {
     "data": {
      "text/plain": [
       "(41188, 21)"
      ]
     },
     "execution_count": 4,
     "metadata": {},
     "output_type": "execute_result"
    }
   ],
   "source": [
    "# Check the shape of data\n",
    "df.shape"
   ]
  },
  {
   "cell_type": "code",
   "execution_count": 317,
   "id": "54919b97",
   "metadata": {},
   "outputs": [
    {
     "data": {
      "text/html": [
       "<div>\n",
       "<style scoped>\n",
       "    .dataframe tbody tr th:only-of-type {\n",
       "        vertical-align: middle;\n",
       "    }\n",
       "\n",
       "    .dataframe tbody tr th {\n",
       "        vertical-align: top;\n",
       "    }\n",
       "\n",
       "    .dataframe thead th {\n",
       "        text-align: right;\n",
       "    }\n",
       "</style>\n",
       "<table border=\"1\" class=\"dataframe\">\n",
       "  <thead>\n",
       "    <tr style=\"text-align: right;\">\n",
       "      <th></th>\n",
       "      <th>count</th>\n",
       "      <th>mean</th>\n",
       "      <th>std</th>\n",
       "      <th>min</th>\n",
       "      <th>25%</th>\n",
       "      <th>50%</th>\n",
       "      <th>75%</th>\n",
       "      <th>max</th>\n",
       "    </tr>\n",
       "  </thead>\n",
       "  <tbody>\n",
       "    <tr>\n",
       "      <th>campaign</th>\n",
       "      <td>41188.0</td>\n",
       "      <td>2.567593</td>\n",
       "      <td>2.770014</td>\n",
       "      <td>1.000</td>\n",
       "      <td>1.000</td>\n",
       "      <td>2.000</td>\n",
       "      <td>3.000</td>\n",
       "      <td>56.000</td>\n",
       "    </tr>\n",
       "    <tr>\n",
       "      <th>pdays</th>\n",
       "      <td>41188.0</td>\n",
       "      <td>962.475454</td>\n",
       "      <td>186.910907</td>\n",
       "      <td>0.000</td>\n",
       "      <td>999.000</td>\n",
       "      <td>999.000</td>\n",
       "      <td>999.000</td>\n",
       "      <td>999.000</td>\n",
       "    </tr>\n",
       "    <tr>\n",
       "      <th>previous</th>\n",
       "      <td>41188.0</td>\n",
       "      <td>0.172963</td>\n",
       "      <td>0.494901</td>\n",
       "      <td>0.000</td>\n",
       "      <td>0.000</td>\n",
       "      <td>0.000</td>\n",
       "      <td>0.000</td>\n",
       "      <td>7.000</td>\n",
       "    </tr>\n",
       "    <tr>\n",
       "      <th>cons.price.idx</th>\n",
       "      <td>41188.0</td>\n",
       "      <td>93.575679</td>\n",
       "      <td>0.578851</td>\n",
       "      <td>92.201</td>\n",
       "      <td>93.075</td>\n",
       "      <td>93.749</td>\n",
       "      <td>93.994</td>\n",
       "      <td>94.767</td>\n",
       "    </tr>\n",
       "    <tr>\n",
       "      <th>cons.conf.idx</th>\n",
       "      <td>41188.0</td>\n",
       "      <td>-40.502600</td>\n",
       "      <td>4.628198</td>\n",
       "      <td>-50.800</td>\n",
       "      <td>-42.700</td>\n",
       "      <td>-41.800</td>\n",
       "      <td>-36.400</td>\n",
       "      <td>-26.900</td>\n",
       "    </tr>\n",
       "    <tr>\n",
       "      <th>nr.employed</th>\n",
       "      <td>41188.0</td>\n",
       "      <td>5167.035911</td>\n",
       "      <td>72.251528</td>\n",
       "      <td>4963.600</td>\n",
       "      <td>5099.100</td>\n",
       "      <td>5191.000</td>\n",
       "      <td>5228.100</td>\n",
       "      <td>5228.100</td>\n",
       "    </tr>\n",
       "    <tr>\n",
       "      <th>y</th>\n",
       "      <td>41188.0</td>\n",
       "      <td>0.112654</td>\n",
       "      <td>0.316173</td>\n",
       "      <td>0.000</td>\n",
       "      <td>0.000</td>\n",
       "      <td>0.000</td>\n",
       "      <td>0.000</td>\n",
       "      <td>1.000</td>\n",
       "    </tr>\n",
       "  </tbody>\n",
       "</table>\n",
       "</div>"
      ],
      "text/plain": [
       "                  count         mean         std       min       25%  \\\n",
       "campaign        41188.0     2.567593    2.770014     1.000     1.000   \n",
       "pdays           41188.0   962.475454  186.910907     0.000   999.000   \n",
       "previous        41188.0     0.172963    0.494901     0.000     0.000   \n",
       "cons.price.idx  41188.0    93.575679    0.578851    92.201    93.075   \n",
       "cons.conf.idx   41188.0   -40.502600    4.628198   -50.800   -42.700   \n",
       "nr.employed     41188.0  5167.035911   72.251528  4963.600  5099.100   \n",
       "y               41188.0     0.112654    0.316173     0.000     0.000   \n",
       "\n",
       "                     50%       75%       max  \n",
       "campaign           2.000     3.000    56.000  \n",
       "pdays            999.000   999.000   999.000  \n",
       "previous           0.000     0.000     7.000  \n",
       "cons.price.idx    93.749    93.994    94.767  \n",
       "cons.conf.idx    -41.800   -36.400   -26.900  \n",
       "nr.employed     5191.000  5228.100  5228.100  \n",
       "y                  0.000     0.000     1.000  "
      ]
     },
     "execution_count": 317,
     "metadata": {},
     "output_type": "execute_result"
    }
   ],
   "source": [
    "# Check numerical columns\n",
    "df.describe().T"
   ]
  },
  {
   "cell_type": "code",
   "execution_count": 318,
   "id": "9a236ee7",
   "metadata": {},
   "outputs": [
    {
     "data": {
      "text/plain": [
       "job               0\n",
       "marital           0\n",
       "education         0\n",
       "default           0\n",
       "housing           0\n",
       "loan              0\n",
       "contact           0\n",
       "month             0\n",
       "day_of_week       0\n",
       "campaign          0\n",
       "pdays             0\n",
       "previous          0\n",
       "poutcome          0\n",
       "cons.price.idx    0\n",
       "cons.conf.idx     0\n",
       "nr.employed       0\n",
       "y                 0\n",
       "new_age           0\n",
       "dtype: int64"
      ]
     },
     "execution_count": 318,
     "metadata": {},
     "output_type": "execute_result"
    }
   ],
   "source": [
    "# How many values are missing\n",
    "df.isna().sum()"
   ]
  },
  {
   "cell_type": "code",
   "execution_count": 7,
   "id": "0134c622",
   "metadata": {},
   "outputs": [
    {
     "name": "stdout",
     "output_type": "stream",
     "text": [
      "Dataset general information:\n",
      "90.91% of data exist, N of unique parameters: 78 in column age\n",
      "100.0% of data exist, N of unique parameters: 12 in column job\n",
      "100.0% of data exist, N of unique parameters: 4 in column marital\n",
      "100.0% of data exist, N of unique parameters: 8 in column education\n",
      "100.0% of data exist, N of unique parameters: 3 in column default\n",
      "100.0% of data exist, N of unique parameters: 3 in column housing\n",
      "100.0% of data exist, N of unique parameters: 3 in column loan\n",
      "100.0% of data exist, N of unique parameters: 2 in column contact\n",
      "100.0% of data exist, N of unique parameters: 10 in column month\n",
      "100.0% of data exist, N of unique parameters: 5 in column day_of_week\n",
      "100.0% of data exist, N of unique parameters: 1544 in column duration\n",
      "100.0% of data exist, N of unique parameters: 42 in column campaign\n",
      "100.0% of data exist, N of unique parameters: 27 in column pdays\n",
      "100.0% of data exist, N of unique parameters: 8 in column previous\n",
      "100.0% of data exist, N of unique parameters: 3 in column poutcome\n",
      "100.0% of data exist, N of unique parameters: 10 in column emp.var.rate\n",
      "87.5% of data exist, N of unique parameters: 26 in column cons.price.idx\n",
      "100.0% of data exist, N of unique parameters: 26 in column cons.conf.idx\n",
      "100.0% of data exist, N of unique parameters: 316 in column euribor3m\n",
      "100.0% of data exist, N of unique parameters: 11 in column nr.employed\n",
      "100.0% of data exist, N of unique parameters: 2 in column y\n"
     ]
    }
   ],
   "source": [
    "# Check how many uniue values and normalize missing data for better perception\n",
    "def checker(df):\n",
    "    for column in df.columns:\n",
    "        print(f\"{round((1-df[column].isna().sum()/len(df[column]))*100, 2)}% of data exist, N of unique parameters: {len(df[column].value_counts().keys())} in column {column}\")\n",
    "\n",
    "print(\"Dataset general information:\")        \n",
    "checker(df)"
   ]
  },
  {
   "cell_type": "code",
   "execution_count": 8,
   "id": "a991ec7d",
   "metadata": {},
   "outputs": [
    {
     "name": "stdout",
     "output_type": "stream",
     "text": [
      "-------------\n",
      "Column : age\n",
      "31.0    1782\n",
      "33.0    1687\n",
      "32.0    1672\n",
      "36.0    1625\n",
      "35.0    1598\n",
      "34.0    1577\n",
      "30.0    1570\n",
      "37.0    1350\n",
      "29.0    1327\n",
      "39.0    1295\n",
      "Name: age, dtype: int64\n",
      "-------------\n",
      "Column : job\n",
      "admin.           10422\n",
      "blue-collar       9254\n",
      "technician        6743\n",
      "services          3969\n",
      "management        2924\n",
      "retired           1720\n",
      "entrepreneur      1456\n",
      "self-employed     1421\n",
      "housemaid         1060\n",
      "unemployed        1014\n",
      "Name: job, dtype: int64\n",
      "-------------\n",
      "Column : marital\n",
      "married     24928\n",
      "single      11568\n",
      "divorced     4612\n",
      "unknown        80\n",
      "Name: marital, dtype: int64\n",
      "-------------\n",
      "Column : education\n",
      "university.degree      12168\n",
      "high.school             9515\n",
      "basic.9y                6045\n",
      "professional.course     5243\n",
      "basic.4y                4176\n",
      "basic.6y                2292\n",
      "unknown                 1731\n",
      "illiterate                18\n",
      "Name: education, dtype: int64\n",
      "-------------\n",
      "Column : default\n",
      "no         32588\n",
      "unknown     8597\n",
      "yes            3\n",
      "Name: default, dtype: int64\n",
      "-------------\n",
      "Column : housing\n",
      "yes        21576\n",
      "no         18622\n",
      "unknown      990\n",
      "Name: housing, dtype: int64\n",
      "-------------\n",
      "Column : loan\n",
      "no         33950\n",
      "yes         6248\n",
      "unknown      990\n",
      "Name: loan, dtype: int64\n",
      "-------------\n",
      "Column : contact\n",
      "cellular     26144\n",
      "telephone    15044\n",
      "Name: contact, dtype: int64\n",
      "-------------\n",
      "Column : month\n",
      "may    13769\n",
      "jul     7174\n",
      "aug     6178\n",
      "jun     5318\n",
      "nov     4101\n",
      "apr     2632\n",
      "oct      718\n",
      "sep      570\n",
      "mar      546\n",
      "dec      182\n",
      "Name: month, dtype: int64\n",
      "-------------\n",
      "Column : day_of_week\n",
      "thu    8623\n",
      "mon    8514\n",
      "wed    8134\n",
      "tue    8090\n",
      "fri    7827\n",
      "Name: day_of_week, dtype: int64\n",
      "-------------\n",
      "Column : duration\n",
      "90     170\n",
      "85     170\n",
      "136    168\n",
      "73     167\n",
      "124    164\n",
      "87     162\n",
      "72     161\n",
      "104    161\n",
      "111    160\n",
      "106    159\n",
      "Name: duration, dtype: int64\n",
      "-------------\n",
      "Column : campaign\n",
      "1     17642\n",
      "2     10570\n",
      "3      5341\n",
      "4      2651\n",
      "5      1599\n",
      "6       979\n",
      "7       629\n",
      "8       400\n",
      "9       283\n",
      "10      225\n",
      "Name: campaign, dtype: int64\n",
      "-------------\n",
      "Column : pdays\n",
      "999    39673\n",
      "3        439\n",
      "6        412\n",
      "4        118\n",
      "9         64\n",
      "2         61\n",
      "7         60\n",
      "12        58\n",
      "10        52\n",
      "5         46\n",
      "Name: pdays, dtype: int64\n",
      "-------------\n",
      "Column : previous\n",
      "0    35563\n",
      "1     4561\n",
      "2      754\n",
      "3      216\n",
      "4       70\n",
      "5       18\n",
      "6        5\n",
      "7        1\n",
      "Name: previous, dtype: int64\n",
      "-------------\n",
      "Column : poutcome\n",
      "nonexistent    35563\n",
      "failure         4252\n",
      "success         1373\n",
      "Name: poutcome, dtype: int64\n",
      "-------------\n",
      "Column : emp.var.rate\n",
      " 1.4    16234\n",
      "-1.8     9184\n",
      " 1.1     7763\n",
      "-0.1     3683\n",
      "-2.9     1663\n",
      "-3.4     1071\n",
      "-1.7      773\n",
      "-1.1      635\n",
      "-3.0      172\n",
      "-0.2       10\n",
      "Name: emp.var.rate, dtype: int64\n",
      "-------------\n",
      "Column : cons.price.idx\n",
      "93.994    6787\n",
      "93.918    5866\n",
      "92.893    5042\n",
      "93.444    4505\n",
      "94.465    3832\n",
      "93.200    3156\n",
      "93.075    2180\n",
      "92.201     683\n",
      "92.963     620\n",
      "92.431     398\n",
      "Name: cons.price.idx, dtype: int64\n",
      "-------------\n",
      "Column : cons.conf.idx\n",
      "-36.4    7763\n",
      "-42.7    6685\n",
      "-46.2    5794\n",
      "-36.1    5175\n",
      "-41.8    4374\n",
      "-42.0    3616\n",
      "-47.1    2458\n",
      "-31.4     770\n",
      "-40.8     715\n",
      "-26.9     447\n",
      "Name: cons.conf.idx, dtype: int64\n",
      "-------------\n",
      "Column : euribor3m\n",
      "4.857    2868\n",
      "4.962    2613\n",
      "4.963    2487\n",
      "4.961    1902\n",
      "4.856    1210\n",
      "4.964    1175\n",
      "1.405    1169\n",
      "4.965    1071\n",
      "4.864    1044\n",
      "4.960    1013\n",
      "Name: euribor3m, dtype: int64\n",
      "-------------\n",
      "Column : nr.employed\n",
      "5228.1    16234\n",
      "5099.1     8534\n",
      "5191.0     7763\n",
      "5195.8     3683\n",
      "5076.2     1663\n",
      "5017.5     1071\n",
      "4991.6      773\n",
      "5008.7      650\n",
      "4963.6      635\n",
      "5023.5      172\n",
      "Name: nr.employed, dtype: int64\n",
      "-------------\n",
      "Column : y\n",
      "no     36548\n",
      "yes     4640\n",
      "Name: y, dtype: int64\n"
     ]
    }
   ],
   "source": [
    "for column in df.columns:\n",
    "        print(\"-------------\")\n",
    "        print(f\"Column : {column}\")\n",
    "        print(df[column].value_counts().head(10))"
   ]
  },
  {
   "cell_type": "code",
   "execution_count": 320,
   "id": "3f0f3e73",
   "metadata": {},
   "outputs": [
    {
     "ename": "KeyError",
     "evalue": "'age'",
     "output_type": "error",
     "traceback": [
      "\u001b[0;31m---------------------------------------------------------------------------\u001b[0m",
      "\u001b[0;31mKeyError\u001b[0m                                  Traceback (most recent call last)",
      "\u001b[0;32m/opt/anaconda3/lib/python3.8/site-packages/pandas/core/indexes/base.py\u001b[0m in \u001b[0;36mget_loc\u001b[0;34m(self, key, method, tolerance)\u001b[0m\n\u001b[1;32m   3360\u001b[0m             \u001b[0;32mtry\u001b[0m\u001b[0;34m:\u001b[0m\u001b[0;34m\u001b[0m\u001b[0;34m\u001b[0m\u001b[0m\n\u001b[0;32m-> 3361\u001b[0;31m                 \u001b[0;32mreturn\u001b[0m \u001b[0mself\u001b[0m\u001b[0;34m.\u001b[0m\u001b[0m_engine\u001b[0m\u001b[0;34m.\u001b[0m\u001b[0mget_loc\u001b[0m\u001b[0;34m(\u001b[0m\u001b[0mcasted_key\u001b[0m\u001b[0;34m)\u001b[0m\u001b[0;34m\u001b[0m\u001b[0;34m\u001b[0m\u001b[0m\n\u001b[0m\u001b[1;32m   3362\u001b[0m             \u001b[0;32mexcept\u001b[0m \u001b[0mKeyError\u001b[0m \u001b[0;32mas\u001b[0m \u001b[0merr\u001b[0m\u001b[0;34m:\u001b[0m\u001b[0;34m\u001b[0m\u001b[0;34m\u001b[0m\u001b[0m\n",
      "\u001b[0;32m/opt/anaconda3/lib/python3.8/site-packages/pandas/_libs/index.pyx\u001b[0m in \u001b[0;36mpandas._libs.index.IndexEngine.get_loc\u001b[0;34m()\u001b[0m\n",
      "\u001b[0;32m/opt/anaconda3/lib/python3.8/site-packages/pandas/_libs/index.pyx\u001b[0m in \u001b[0;36mpandas._libs.index.IndexEngine.get_loc\u001b[0;34m()\u001b[0m\n",
      "\u001b[0;32mpandas/_libs/hashtable_class_helper.pxi\u001b[0m in \u001b[0;36mpandas._libs.hashtable.PyObjectHashTable.get_item\u001b[0;34m()\u001b[0m\n",
      "\u001b[0;32mpandas/_libs/hashtable_class_helper.pxi\u001b[0m in \u001b[0;36mpandas._libs.hashtable.PyObjectHashTable.get_item\u001b[0;34m()\u001b[0m\n",
      "\u001b[0;31mKeyError\u001b[0m: 'age'",
      "\nThe above exception was the direct cause of the following exception:\n",
      "\u001b[0;31mKeyError\u001b[0m                                  Traceback (most recent call last)",
      "\u001b[0;32m/var/folders/bg/b5dfn0gj1lz88k7ms283yrlm0000gn/T/ipykernel_29240/2967600334.py\u001b[0m in \u001b[0;36m<module>\u001b[0;34m\u001b[0m\n\u001b[0;32m----> 1\u001b[0;31m \u001b[0;34m(\u001b[0m\u001b[0mdf\u001b[0m\u001b[0;34m[\u001b[0m\u001b[0;34m\"age\"\u001b[0m\u001b[0;34m]\u001b[0m\u001b[0;34m)\u001b[0m\u001b[0;34m.\u001b[0m\u001b[0mhist\u001b[0m\u001b[0;34m(\u001b[0m\u001b[0mbins\u001b[0m\u001b[0;34m=\u001b[0m\u001b[0;36m20\u001b[0m\u001b[0;34m)\u001b[0m\u001b[0;34m\u001b[0m\u001b[0;34m\u001b[0m\u001b[0m\n\u001b[0m",
      "\u001b[0;32m/opt/anaconda3/lib/python3.8/site-packages/pandas/core/frame.py\u001b[0m in \u001b[0;36m__getitem__\u001b[0;34m(self, key)\u001b[0m\n\u001b[1;32m   3456\u001b[0m             \u001b[0;32mif\u001b[0m \u001b[0mself\u001b[0m\u001b[0;34m.\u001b[0m\u001b[0mcolumns\u001b[0m\u001b[0;34m.\u001b[0m\u001b[0mnlevels\u001b[0m \u001b[0;34m>\u001b[0m \u001b[0;36m1\u001b[0m\u001b[0;34m:\u001b[0m\u001b[0;34m\u001b[0m\u001b[0;34m\u001b[0m\u001b[0m\n\u001b[1;32m   3457\u001b[0m                 \u001b[0;32mreturn\u001b[0m \u001b[0mself\u001b[0m\u001b[0;34m.\u001b[0m\u001b[0m_getitem_multilevel\u001b[0m\u001b[0;34m(\u001b[0m\u001b[0mkey\u001b[0m\u001b[0;34m)\u001b[0m\u001b[0;34m\u001b[0m\u001b[0;34m\u001b[0m\u001b[0m\n\u001b[0;32m-> 3458\u001b[0;31m             \u001b[0mindexer\u001b[0m \u001b[0;34m=\u001b[0m \u001b[0mself\u001b[0m\u001b[0;34m.\u001b[0m\u001b[0mcolumns\u001b[0m\u001b[0;34m.\u001b[0m\u001b[0mget_loc\u001b[0m\u001b[0;34m(\u001b[0m\u001b[0mkey\u001b[0m\u001b[0;34m)\u001b[0m\u001b[0;34m\u001b[0m\u001b[0;34m\u001b[0m\u001b[0m\n\u001b[0m\u001b[1;32m   3459\u001b[0m             \u001b[0;32mif\u001b[0m \u001b[0mis_integer\u001b[0m\u001b[0;34m(\u001b[0m\u001b[0mindexer\u001b[0m\u001b[0;34m)\u001b[0m\u001b[0;34m:\u001b[0m\u001b[0;34m\u001b[0m\u001b[0;34m\u001b[0m\u001b[0m\n\u001b[1;32m   3460\u001b[0m                 \u001b[0mindexer\u001b[0m \u001b[0;34m=\u001b[0m \u001b[0;34m[\u001b[0m\u001b[0mindexer\u001b[0m\u001b[0;34m]\u001b[0m\u001b[0;34m\u001b[0m\u001b[0;34m\u001b[0m\u001b[0m\n",
      "\u001b[0;32m/opt/anaconda3/lib/python3.8/site-packages/pandas/core/indexes/base.py\u001b[0m in \u001b[0;36mget_loc\u001b[0;34m(self, key, method, tolerance)\u001b[0m\n\u001b[1;32m   3361\u001b[0m                 \u001b[0;32mreturn\u001b[0m \u001b[0mself\u001b[0m\u001b[0;34m.\u001b[0m\u001b[0m_engine\u001b[0m\u001b[0;34m.\u001b[0m\u001b[0mget_loc\u001b[0m\u001b[0;34m(\u001b[0m\u001b[0mcasted_key\u001b[0m\u001b[0;34m)\u001b[0m\u001b[0;34m\u001b[0m\u001b[0;34m\u001b[0m\u001b[0m\n\u001b[1;32m   3362\u001b[0m             \u001b[0;32mexcept\u001b[0m \u001b[0mKeyError\u001b[0m \u001b[0;32mas\u001b[0m \u001b[0merr\u001b[0m\u001b[0;34m:\u001b[0m\u001b[0;34m\u001b[0m\u001b[0;34m\u001b[0m\u001b[0m\n\u001b[0;32m-> 3363\u001b[0;31m                 \u001b[0;32mraise\u001b[0m \u001b[0mKeyError\u001b[0m\u001b[0;34m(\u001b[0m\u001b[0mkey\u001b[0m\u001b[0;34m)\u001b[0m \u001b[0;32mfrom\u001b[0m \u001b[0merr\u001b[0m\u001b[0;34m\u001b[0m\u001b[0;34m\u001b[0m\u001b[0m\n\u001b[0m\u001b[1;32m   3364\u001b[0m \u001b[0;34m\u001b[0m\u001b[0m\n\u001b[1;32m   3365\u001b[0m         \u001b[0;32mif\u001b[0m \u001b[0mis_scalar\u001b[0m\u001b[0;34m(\u001b[0m\u001b[0mkey\u001b[0m\u001b[0;34m)\u001b[0m \u001b[0;32mand\u001b[0m \u001b[0misna\u001b[0m\u001b[0;34m(\u001b[0m\u001b[0mkey\u001b[0m\u001b[0;34m)\u001b[0m \u001b[0;32mand\u001b[0m \u001b[0;32mnot\u001b[0m \u001b[0mself\u001b[0m\u001b[0;34m.\u001b[0m\u001b[0mhasnans\u001b[0m\u001b[0;34m:\u001b[0m\u001b[0;34m\u001b[0m\u001b[0;34m\u001b[0m\u001b[0m\n",
      "\u001b[0;31mKeyError\u001b[0m: 'age'"
     ]
    }
   ],
   "source": [
    "(df[\"age\"]).hist(bins=20)"
   ]
  },
  {
   "cell_type": "code",
   "execution_count": 321,
   "id": "62364b01",
   "metadata": {},
   "outputs": [
    {
     "data": {
      "text/plain": [
       "93.994    0.188477\n",
       "93.918    0.162305\n",
       "92.893    0.140672\n",
       "93.444    0.125643\n",
       "94.465    0.106196\n",
       "93.200    0.087793\n",
       "93.075    0.059678\n",
       "92.201    0.018646\n",
       "92.963    0.017335\n",
       "92.431    0.010853\n",
       "92.649    0.008668\n",
       "94.215    0.007575\n",
       "94.199    0.007332\n",
       "92.843    0.006895\n",
       "92.379    0.006531\n",
       "93.369    0.006410\n",
       "94.027    0.005657\n",
       "94.055    0.005536\n",
       "93.876    0.005147\n",
       "94.601    0.004977\n",
       "92.469    0.004346\n",
       "93.749    0.004225\n",
       "92.713    0.004176\n",
       "94.767    0.003108\n",
       "93.798    0.001627\n",
       "92.756    0.000194\n",
       "Name: cons.price.idx, dtype: float64"
      ]
     },
     "execution_count": 321,
     "metadata": {},
     "output_type": "execute_result"
    }
   ],
   "source": [
    "df[\"cons.price.idx\"].value_counts(normalize=True)"
   ]
  },
  {
   "cell_type": "code",
   "execution_count": 11,
   "id": "b438f285",
   "metadata": {},
   "outputs": [
    {
     "data": {
      "text/plain": [
       "<AxesSubplot:>"
      ]
     },
     "execution_count": 11,
     "metadata": {},
     "output_type": "execute_result"
    },
    {
     "data": {
      "image/png": "[encoded data removed]",
      "text/plain": [
       "<Figure size 432x288 with 1 Axes>"
      ]
     },
     "metadata": {
      "needs_background": "light"
     },
     "output_type": "display_data"
    }
   ],
   "source": [
    "df[\"cons.price.idx\"].hist(bins = 10)"
   ]
  },
  {
   "cell_type": "code",
   "execution_count": 12,
   "id": "a67fba7c",
   "metadata": {},
   "outputs": [
    {
     "data": {
      "text/plain": [
       "False    3268\n",
       "True      476\n",
       "Name: cons.price.idx, dtype: int64"
      ]
     },
     "execution_count": 12,
     "metadata": {},
     "output_type": "execute_result"
    }
   ],
   "source": [
    "# Check when both rows have missing values.\n",
    "df[df.age.isna()][\"cons.price.idx\"].isna().value_counts()\n",
    "# Both have missing values in rare cases."
   ]
  },
  {
   "cell_type": "code",
   "execution_count": 13,
   "id": "02fbb0f7",
   "metadata": {},
   "outputs": [
    {
     "name": "stdout",
     "output_type": "stream",
     "text": [
      "Normal data, marketing campaign outcome:\n",
      "no     0.887346\n",
      "yes    0.112654\n",
      "Name: y, dtype: float64\n",
      "Both columns missing data, marketing campaign outcome:\n",
      "no     0.878151\n",
      "yes    0.121849\n",
      "Name: y, dtype: float64\n"
     ]
    }
   ],
   "source": [
    "# Check when both rows have missing values and outcome of these marketing campaigns. \n",
    "print(\"Normal data, marketing campaign outcome:\")\n",
    "print(df[\"y\"].value_counts(normalize=True))\n",
    "print(\"Both columns missing data, marketing campaign outcome:\")\n",
    "print(df[(df.age.isna() & df[\"cons.price.idx\"].isna())][\"y\"].value_counts(normalize=True))"
   ]
  },
  {
   "cell_type": "markdown",
   "id": "1cda3a4c",
   "metadata": {},
   "source": [
    "### Data Engineering"
   ]
  },
  {
   "cell_type": "markdown",
   "id": "c87b75dc",
   "metadata": {},
   "source": [
    "##### Outcome"
   ]
  },
  {
   "cell_type": "code",
   "execution_count": 14,
   "id": "c0c9dcce",
   "metadata": {},
   "outputs": [],
   "source": [
    "# Change outcome type\n",
    "df[\"y\"] = df[\"y\"].map({\"yes\":1, \"no\":0})"
   ]
  },
  {
   "cell_type": "markdown",
   "id": "1119c140",
   "metadata": {},
   "source": [
    "##### Missing values"
   ]
  },
  {
   "cell_type": "code",
   "execution_count": 322,
   "id": "73c1a3ba",
   "metadata": {
    "scrolled": true
   },
   "outputs": [
    {
     "data": {
      "text/plain": [
       "93.994    7763\n",
       "93.918    6685\n",
       "92.893    5794\n",
       "93.444    5175\n",
       "94.465    4374\n",
       "93.200    3616\n",
       "93.075    2458\n",
       "92.201     768\n",
       "92.963     714\n",
       "92.431     447\n",
       "92.649     357\n",
       "94.215     312\n",
       "94.199     302\n",
       "92.843     284\n",
       "92.379     269\n",
       "93.369     264\n",
       "94.027     233\n",
       "94.055     228\n",
       "93.876     212\n",
       "94.601     205\n",
       "92.469     179\n",
       "93.749     174\n",
       "92.713     172\n",
       "94.767     128\n",
       "93.798      67\n",
       "92.756       8\n",
       "Name: cons.price.idx, dtype: int64"
      ]
     },
     "execution_count": 322,
     "metadata": {},
     "output_type": "execute_result"
    }
   ],
   "source": [
    "# Consumer price index\n",
    "df[\"cons.price.idx\"].value_counts()"
   ]
  },
  {
   "cell_type": "code",
   "execution_count": 323,
   "id": "ba0c2cb7",
   "metadata": {},
   "outputs": [
    {
     "data": {
      "text/plain": [
       "7750    93.994\n",
       "7751    93.994\n",
       "7752    93.994\n",
       "7753    93.994\n",
       "7754    93.994\n",
       "7755    93.994\n",
       "7756    93.994\n",
       "7757    93.994\n",
       "7758    93.994\n",
       "7759    93.994\n",
       "7760    93.994\n",
       "7761    93.994\n",
       "7762    93.994\n",
       "7763    94.465\n",
       "7764    94.465\n",
       "7765    94.465\n",
       "7766    94.465\n",
       "7767    94.465\n",
       "7768    94.465\n",
       "7769    94.465\n",
       "7770    94.465\n",
       "7771    94.465\n",
       "7772    94.465\n",
       "7773    94.465\n",
       "7774    94.465\n",
       "7775    94.465\n",
       "7776    94.465\n",
       "7777    94.465\n",
       "7778    94.465\n",
       "7779    94.465\n",
       "7780    94.465\n",
       "7781    94.465\n",
       "7782    94.465\n",
       "7783    94.465\n",
       "7784    94.465\n",
       "7785    94.465\n",
       "7786    94.465\n",
       "7787    94.465\n",
       "7788    94.465\n",
       "7789    94.465\n",
       "7790    94.465\n",
       "7791    94.465\n",
       "7792    94.465\n",
       "7793    94.465\n",
       "7794    94.465\n",
       "7795    94.465\n",
       "7796    94.465\n",
       "7797    94.465\n",
       "7798    94.465\n",
       "7799    94.465\n",
       "Name: cons.price.idx, dtype: float64"
      ]
     },
     "execution_count": 323,
     "metadata": {},
     "output_type": "execute_result"
    }
   ],
   "source": [
    "df[\"cons.price.idx\"][7750:7800]"
   ]
  },
  {
   "cell_type": "code",
   "execution_count": 324,
   "id": "df85cf5e",
   "metadata": {},
   "outputs": [
    {
     "data": {
      "text/plain": [
       "0"
      ]
     },
     "execution_count": 324,
     "metadata": {},
     "output_type": "execute_result"
    }
   ],
   "source": [
    "sum(list(df[\"cons.price.idx\"][df[\"cons.price.idx\"].isna()].index < 20000))\n",
    "\n",
    "# Consumer price index is filled after constant period of time and stay constant in fixed time frame\n",
    "# As we can see our records also filled in timely manner.\n",
    "# Missing values of consumer price index are randomly situated in our records.\n",
    "# We have reported 10 month, and 26 unique values of consumer price index, that doesn't correspond to weekly, biweekly or monthly change\n",
    "# We will use bfill strategy to fill NA values"
   ]
  },
  {
   "cell_type": "code",
   "execution_count": 18,
   "id": "b65ea1a6",
   "metadata": {},
   "outputs": [],
   "source": [
    "df[\"cons.price.idx\"].fillna(method = \"bfill\", inplace = True)"
   ]
  },
  {
   "cell_type": "code",
   "execution_count": 19,
   "id": "6f046b68",
   "metadata": {},
   "outputs": [
    {
     "data": {
      "text/plain": [
       "7750    93.994\n",
       "7751    93.994\n",
       "7752    93.994\n",
       "7753    93.994\n",
       "7754    93.994\n",
       "7755    93.994\n",
       "7756    93.994\n",
       "7757    93.994\n",
       "7758    93.994\n",
       "7759    93.994\n",
       "7760    93.994\n",
       "7761    93.994\n",
       "7762    93.994\n",
       "7763    94.465\n",
       "7764    94.465\n",
       "7765    94.465\n",
       "7766    94.465\n",
       "7767    94.465\n",
       "7768    94.465\n",
       "7769    94.465\n",
       "7770    94.465\n",
       "7771    94.465\n",
       "7772    94.465\n",
       "7773    94.465\n",
       "7774    94.465\n",
       "7775    94.465\n",
       "7776    94.465\n",
       "7777    94.465\n",
       "7778    94.465\n",
       "7779    94.465\n",
       "7780    94.465\n",
       "7781    94.465\n",
       "7782    94.465\n",
       "7783    94.465\n",
       "7784    94.465\n",
       "7785    94.465\n",
       "7786    94.465\n",
       "7787    94.465\n",
       "7788    94.465\n",
       "7789    94.465\n",
       "7790    94.465\n",
       "7791    94.465\n",
       "7792    94.465\n",
       "7793    94.465\n",
       "7794    94.465\n",
       "7795    94.465\n",
       "7796    94.465\n",
       "7797    94.465\n",
       "7798    94.465\n",
       "7799    94.465\n",
       "Name: cons.price.idx, dtype: float64"
      ]
     },
     "execution_count": 19,
     "metadata": {},
     "output_type": "execute_result"
    }
   ],
   "source": [
    "df[\"cons.price.idx\"][7750:7800]"
   ]
  },
  {
   "cell_type": "code",
   "execution_count": 20,
   "id": "cfb916f7",
   "metadata": {},
   "outputs": [],
   "source": [
    "# Age\n",
    "# Check for outliers\n",
    "df[\"age\"]"
   ]
  },
  {
   "cell_type": "code",
   "execution_count": 21,
   "id": "b34fdc74",
   "metadata": {},
   "outputs": [],
   "source": [
    "# Age bins:\n",
    "bins_age = list(range(15,90,5))\n",
    "df[\"new_age\"] = pd.cut(x = df.age, bins = bins_age)\n",
    "# Fill missing age with new category - Unknown\n",
    "df[\"new_age\"] = df[\"new_age\"].cat.add_categories(\"Unknown\").fillna(\"Unknown\").astype(\"string\").astype(\"object\")\n",
    "# Drop old age \n",
    "df.drop(\"age\", axis = 1, inplace = True)\n"
   ]
  },
  {
   "cell_type": "code",
   "execution_count": null,
   "id": "63eeb11d",
   "metadata": {},
   "outputs": [],
   "source": []
  },
  {
   "cell_type": "code",
   "execution_count": 22,
   "id": "bc2c666e",
   "metadata": {},
   "outputs": [
    {
     "name": "stdout",
     "output_type": "stream",
     "text": [
      "The number of missing values - 0\n",
      "------------------------\n"
     ]
    }
   ],
   "source": [
    "print(f\"The number of missing values - {df.isna().sum().sum()}\")\n",
    "print(\"------------------------\")"
   ]
  },
  {
   "cell_type": "markdown",
   "id": "241080a3",
   "metadata": {},
   "source": [
    "##### Multicollinearity issues.\n"
   ]
  },
  {
   "cell_type": "code",
   "execution_count": 325,
   "id": "f75a9ea0",
   "metadata": {
    "scrolled": true
   },
   "outputs": [
    {
     "data": {
      "text/plain": [
       "<AxesSubplot:>"
      ]
     },
     "execution_count": 325,
     "metadata": {},
     "output_type": "execute_result"
    },
    {
     "data": {
      "image/png": "[encoded data removed]",
      "text/plain": [
       "<Figure size 1080x720 with 2 Axes>"
      ]
     },
     "metadata": {},
     "output_type": "display_data"
    }
   ],
   "source": [
    "fig,axs = plt.subplots(1,1,figsize = (15,10))\n",
    "sns.heatmap(np.abs(df.corr()), annot = True, ax = axs)"
   ]
  },
  {
   "cell_type": "code",
   "execution_count": 24,
   "id": "72d927d8",
   "metadata": {
    "scrolled": true
   },
   "outputs": [
    {
     "data": {
      "text/plain": [
       "<AxesSubplot:>"
      ]
     },
     "execution_count": 24,
     "metadata": {},
     "output_type": "execute_result"
    },
    {
     "data": {
      "image/png": "[encoded data removed]",
      "text/plain": [
       "<Figure size 1080x720 with 2 Axes>"
      ]
     },
     "metadata": {
      "needs_background": "light"
     },
     "output_type": "display_data"
    }
   ],
   "source": [
    "# High correlation between eurobor3m, nr.employed, emp.var.rate, cons.price.ind. \n",
    "# Remove some of them to takle multicollinearity. \n",
    "list_to_drop= [\"emp.var.rate\", \"euribor3m\"]\n",
    "df = df.drop(list_to_drop, axis = 1)\n",
    "fig,axs = plt.subplots(1,1,figsize = (15,10))\n",
    "sns.heatmap(np.abs(df.corr()), annot = True, ax = axs)"
   ]
  },
  {
   "cell_type": "code",
   "execution_count": 25,
   "id": "95e98f97",
   "metadata": {},
   "outputs": [],
   "source": [
    "# Drop duration\n",
    "# # Shoud be removed. \n",
    "# # Duration - log transformation + remove 0 values.\n",
    "df.drop(\"duration\", axis = 1, inplace = True)"
   ]
  },
  {
   "cell_type": "markdown",
   "id": "f38515b9",
   "metadata": {},
   "source": [
    "##### column investigation"
   ]
  },
  {
   "cell_type": "code",
   "execution_count": 26,
   "id": "5b71de7c",
   "metadata": {},
   "outputs": [
    {
     "data": {
      "text/plain": [
       "1     0.428329\n",
       "2     0.684957\n",
       "3     0.814630\n",
       "4     0.878994\n",
       "5     0.917816\n",
       "6     0.941585\n",
       "7     0.956856\n",
       "8     0.966568\n",
       "9     0.973439\n",
       "10    0.978902\n",
       "11    0.983199\n",
       "12    0.986234\n",
       "13    0.988468\n",
       "14    0.990143\n",
       "17    0.991551\n",
       "16    0.992789\n",
       "15    0.994027\n",
       "18    0.994829\n",
       "20    0.995557\n",
       "19    0.996188\n",
       "21    0.996771\n",
       "22    0.997184\n",
       "23    0.997572\n",
       "24    0.997936\n",
       "27    0.998203\n",
       "29    0.998446\n",
       "28    0.998640\n",
       "26    0.998835\n",
       "25    0.999029\n",
       "31    0.999199\n",
       "30    0.999369\n",
       "35    0.999490\n",
       "32    0.999587\n",
       "33    0.999684\n",
       "34    0.999757\n",
       "42    0.999806\n",
       "40    0.999854\n",
       "43    0.999903\n",
       "56    0.999927\n",
       "39    0.999951\n",
       "41    0.999976\n",
       "37    1.000000\n",
       "Name: campaign, dtype: float64"
      ]
     },
     "execution_count": 26,
     "metadata": {},
     "output_type": "execute_result"
    }
   ],
   "source": [
    "# Number of contacts\n",
    "np.cumsum(df['campaign'].value_counts())/len(df['campaign'])"
   ]
  },
  {
   "cell_type": "code",
   "execution_count": 27,
   "id": "b2f10712",
   "metadata": {},
   "outputs": [
    {
     "data": {
      "image/png": "[encoded data removed]",
      "text/plain": [
       "<Figure size 1008x576 with 1 Axes>"
      ]
     },
     "metadata": {},
     "output_type": "display_data"
    }
   ],
   "source": [
    "sns.set_theme(style=\"whitegrid\")\n",
    "\n",
    "fig, ax = plt.subplots(figsize=(14, 8))\n",
    "x_labels = list(df[\"campaign\"].value_counts().index)\n",
    "\n",
    "sns.set_color_codes(\"muted\")\n",
    "sns.barplot(data = df, x = df.groupby(\"campaign\")[\"y\"].sum().index, \n",
    "            y =  df.groupby(\"campaign\")[\"y\"].sum()/df.groupby(\"campaign\")[\"y\"].count()*100, \n",
    "            color = \"b\", label = \"Signed percetange\")\n",
    "ax.legend(ncol=2, loc=\"upper left\", frameon=True)\n",
    "ax.set_xlabel(\"N of contacts\")\n",
    "ax.set_ylabel(\"% of signed customers\")\n",
    "ax.set_title(\"Number of contacts vs sign up percentage\")\n",
    "plt.savefig(\"./img/EDA2.png\")"
   ]
  },
  {
   "cell_type": "code",
   "execution_count": 28,
   "id": "b1bcc2a6",
   "metadata": {},
   "outputs": [
    {
     "data": {
      "text/plain": [
       "999    0.963217\n",
       "3      0.010658\n",
       "6      0.010003\n",
       "4      0.002865\n",
       "9      0.001554\n",
       "2      0.001481\n",
       "7      0.001457\n",
       "12     0.001408\n",
       "10     0.001263\n",
       "5      0.001117\n",
       "13     0.000874\n",
       "11     0.000680\n",
       "1      0.000631\n",
       "15     0.000583\n",
       "14     0.000486\n",
       "8      0.000437\n",
       "0      0.000364\n",
       "16     0.000267\n",
       "17     0.000194\n",
       "18     0.000170\n",
       "22     0.000073\n",
       "19     0.000073\n",
       "21     0.000049\n",
       "25     0.000024\n",
       "26     0.000024\n",
       "27     0.000024\n",
       "20     0.000024\n",
       "Name: pdays, dtype: float64"
      ]
     },
     "execution_count": 28,
     "metadata": {},
     "output_type": "execute_result"
    }
   ],
   "source": [
    "# Pdays\n",
    "df[\"pdays\"].value_counts(normalize = True)"
   ]
  },
  {
   "cell_type": "code",
   "execution_count": 29,
   "id": "b82af2f3",
   "metadata": {},
   "outputs": [
    {
     "data": {
      "image/png": "[encoded data removed]",
      "text/plain": [
       "<Figure size 1008x576 with 1 Axes>"
      ]
     },
     "metadata": {},
     "output_type": "display_data"
    }
   ],
   "source": [
    "sns.set_theme(style=\"whitegrid\")\n",
    "\n",
    "fig, ax = plt.subplots(figsize=(14, 8))\n",
    "x_labels = list(df[\"campaign\"].value_counts().index)\n",
    "\n",
    "sns.set_color_codes(\"muted\")\n",
    "sns.barplot(data = df, x = df.groupby(\"pdays\")[\"y\"].sum().index, \n",
    "            y =  df.groupby(\"pdays\")[\"y\"].sum()/df.groupby(\"pdays\")[\"y\"].count()*100, \n",
    "            color = \"b\", label = \"Signed percetange\")\n",
    "ax.legend(ncol=2, loc=\"upper left\", frameon=True)\n",
    "ax.set_xlabel(\"N of contacts\")\n",
    "ax.set_ylabel(\"% of signed customers\")\n",
    "ax.set_title(\"Number of contacts vs sign up percentage\")\n",
    "plt.savefig(\"./img/EDA2.png\")"
   ]
  },
  {
   "cell_type": "code",
   "execution_count": null,
   "id": "c3497389",
   "metadata": {},
   "outputs": [],
   "source": []
  },
  {
   "cell_type": "code",
   "execution_count": 30,
   "id": "96bdc1dd",
   "metadata": {},
   "outputs": [
    {
     "data": {
      "text/plain": [
       "0    0.863431\n",
       "1    0.110736\n",
       "2    0.018306\n",
       "3    0.005244\n",
       "4    0.001700\n",
       "5    0.000437\n",
       "6    0.000121\n",
       "7    0.000024\n",
       "Name: previous, dtype: float64"
      ]
     },
     "execution_count": 30,
     "metadata": {},
     "output_type": "execute_result"
    }
   ],
   "source": [
    "# Pdays\n",
    "\n",
    "df[\"previous\"].value_counts(normalize = True)"
   ]
  },
  {
   "cell_type": "code",
   "execution_count": 31,
   "id": "2ead7552",
   "metadata": {},
   "outputs": [
    {
     "data": {
      "image/png": "[encoded data removed]",
      "text/plain": [
       "<Figure size 1008x576 with 1 Axes>"
      ]
     },
     "metadata": {},
     "output_type": "display_data"
    }
   ],
   "source": [
    "sns.set_theme(style=\"whitegrid\")\n",
    "\n",
    "fig, ax = plt.subplots(figsize=(14, 8))\n",
    "x_labels = list(df[\"campaign\"].value_counts().index)\n",
    "\n",
    "sns.set_color_codes(\"muted\")\n",
    "sns.barplot(data = df, x = df.groupby(\"previous\")[\"y\"].sum().index, \n",
    "            y =  df.groupby(\"previous\")[\"y\"].sum()/df.groupby(\"previous\")[\"y\"].count()*100, \n",
    "            color = \"b\", label = \"Signed percetange\")\n",
    "ax.legend(ncol=2, loc=\"upper left\", frameon=True)\n",
    "ax.set_xlabel(\"N of contacts\")\n",
    "ax.set_ylabel(\"% of signed customers\")\n",
    "ax.set_title(\"Number of contacts vs sign up percentage\")\n",
    "plt.savefig(\"./img/EDA2.png\")"
   ]
  },
  {
   "cell_type": "code",
   "execution_count": null,
   "id": "991623c4",
   "metadata": {},
   "outputs": [],
   "source": []
  },
  {
   "cell_type": "code",
   "execution_count": 32,
   "id": "7cafdf14",
   "metadata": {},
   "outputs": [
    {
     "data": {
      "text/plain": [
       "nonexistent    0.863431\n",
       "failure        0.103234\n",
       "success        0.033335\n",
       "Name: poutcome, dtype: float64"
      ]
     },
     "execution_count": 32,
     "metadata": {},
     "output_type": "execute_result"
    }
   ],
   "source": [
    "# poutcome\n",
    "df[\"poutcome\"].value_counts(normalize = True)"
   ]
  },
  {
   "cell_type": "code",
   "execution_count": 33,
   "id": "88005edb",
   "metadata": {},
   "outputs": [
    {
     "data": {
      "image/png": "[encoded data removed]",
      "text/plain": [
       "<Figure size 1008x576 with 1 Axes>"
      ]
     },
     "metadata": {},
     "output_type": "display_data"
    }
   ],
   "source": [
    "sns.set_theme(style=\"whitegrid\")\n",
    "\n",
    "fig, ax = plt.subplots(figsize=(14, 8))\n",
    "x_labels = list(df[\"poutcome\"].value_counts().index)\n",
    "\n",
    "sns.set_color_codes(\"muted\")\n",
    "sns.barplot(data = df, x = df.groupby(\"poutcome\")[\"y\"].sum().index, \n",
    "            y =  df.groupby(\"poutcome\")[\"y\"].sum()/df.groupby(\"poutcome\")[\"y\"].count()*100, \n",
    "            color = \"b\", label = \"Signed percetange\")\n",
    "ax.legend(ncol=2, loc=\"upper left\", frameon=True)\n",
    "ax.set_xlabel(\"N of contacts\")\n",
    "ax.set_ylabel(\"% of signed customers\")\n",
    "ax.set_title(\"Number of contacts vs sign up percentage\")\n",
    "plt.savefig(\"./img/EDA2.png\")"
   ]
  },
  {
   "cell_type": "code",
   "execution_count": 34,
   "id": "07406419",
   "metadata": {},
   "outputs": [
    {
     "data": {
      "text/plain": [
       "nonexistent    0.863431\n",
       "failure        0.103234\n",
       "success        0.033335\n",
       "Name: poutcome, dtype: float64"
      ]
     },
     "execution_count": 34,
     "metadata": {},
     "output_type": "execute_result"
    }
   ],
   "source": [
    "# poutcome\n",
    "df[\"poutcome\"].value_counts(normalize = True)"
   ]
  },
  {
   "cell_type": "markdown",
   "id": "7e9ac2ea",
   "metadata": {},
   "source": [
    "##### types of data"
   ]
  },
  {
   "cell_type": "code",
   "execution_count": 35,
   "id": "924115e1",
   "metadata": {},
   "outputs": [
    {
     "name": "stdout",
     "output_type": "stream",
     "text": [
      "<class 'pandas.core.frame.DataFrame'>\n",
      "RangeIndex: 41188 entries, 0 to 41187\n",
      "Data columns (total 18 columns):\n",
      " #   Column          Non-Null Count  Dtype  \n",
      "---  ------          --------------  -----  \n",
      " 0   job             41188 non-null  object \n",
      " 1   marital         41188 non-null  object \n",
      " 2   education       41188 non-null  object \n",
      " 3   default         41188 non-null  object \n",
      " 4   housing         41188 non-null  object \n",
      " 5   loan            41188 non-null  object \n",
      " 6   contact         41188 non-null  object \n",
      " 7   month           41188 non-null  object \n",
      " 8   day_of_week     41188 non-null  object \n",
      " 9   campaign        41188 non-null  int64  \n",
      " 10  pdays           41188 non-null  int64  \n",
      " 11  previous        41188 non-null  int64  \n",
      " 12  poutcome        41188 non-null  object \n",
      " 13  cons.price.idx  41188 non-null  float64\n",
      " 14  cons.conf.idx   41188 non-null  float64\n",
      " 15  nr.employed     41188 non-null  float64\n",
      " 16  y               41188 non-null  int64  \n",
      " 17  new_age         41188 non-null  object \n",
      "dtypes: float64(3), int64(4), object(11)\n",
      "memory usage: 5.7+ MB\n"
     ]
    }
   ],
   "source": [
    "df.info()"
   ]
  },
  {
   "cell_type": "code",
   "execution_count": null,
   "id": "b2a7b0b4",
   "metadata": {},
   "outputs": [],
   "source": []
  },
  {
   "cell_type": "code",
   "execution_count": 36,
   "id": "75e34480",
   "metadata": {},
   "outputs": [],
   "source": [
    "# # visualize our finalized selection of feature/condition variables with pair grid\n",
    "# c = ['price', 'bedrooms', 'grade_code', 'age', 'waterfront_coded', 'sqft_living']\n",
    "\n",
    "# g = sns.PairGrid(df, vars=c)\n",
    "# g.map_diag(sns.histplot)\n",
    "# g.map_offdiag(sns.regplot);"
   ]
  },
  {
   "cell_type": "markdown",
   "id": "a8c10b52",
   "metadata": {},
   "source": [
    "### Modeling"
   ]
  },
  {
   "cell_type": "code",
   "execution_count": 37,
   "id": "6aab4e18",
   "metadata": {},
   "outputs": [],
   "source": [
    "# Lets define function to check our models.\n",
    "def get_score2(df, predict,  model = LogisticRegression(max_iter = 1000),cv = 4, grid_search = False, grid = None):\n",
    "\n",
    "    \n",
    "    # Timing, for debugging and comparison purposes\n",
    "    start = time.time()\n",
    "    \n",
    "    # Defince our y and X\n",
    "    y = df[predict]\n",
    "    X = df.drop(predict, axis = 1)\n",
    "    \n",
    "    \n",
    "    print(y.value_counts())\n",
    "    # Split data to train and test. Train data will be used for model validation, test data for model verification.\n",
    "    X_train, X_test, y_train, y_test = train_test_split(X, y, test_size = 0.15, random_state = 42)\n",
    "    \n",
    "    # Define our model\n",
    "    model_used = model\n",
    "    \n",
    "    # One hot encode of categorical data. There is no numerical in this dataset so we will OHE before splitting to \n",
    "    # train and validation. \n",
    "    ohe = OneHotEncoder(drop = 'first', handle_unknown= \"ignore\")\n",
    "    ohe.fit(X_train)\n",
    "    X_train_ohe = pd.DataFrame(ohe.transform(X_train).todense(), columns = ohe.get_feature_names_out())\n",
    "    X_test_ohe = pd.DataFrame(ohe.transform(X_test).todense(), columns = ohe.get_feature_names_out())\n",
    "\n",
    "    \n",
    "    # Imbalance problem\n",
    "    X_train_sm, y_train_sm = sm.fit_resample(X_train_ohe, y_train)\n",
    "    \n",
    "    cv_results = cross_validate(model_used, X = X_train_sm, y = y_train_sm, scoring = [\"recall\", \"accuracy\"], cv = StratifiedKFold(n_splits=cv), return_train_score=True, return_estimator = True)\n",
    "    estimator = cv_results[\"estimator\"][0]\n",
    "    train_accuracy =np.mean(cv_results[\"train_accuracy\"]) \n",
    "    train_recall = np.mean(cv_results[\"train_recall\"]) \n",
    "    validation_accuracy = np.mean(cv_results[\"test_accuracy\"]) \n",
    "    validation_recall = np.mean(cv_results[\"test_recall\"]) \n",
    "    fit_time = np.mean(cv_results[\"fit_time\"])\n",
    "    \n",
    "    # Predictions\n",
    "    y_train_hat = estimator.predict(X_train_sm)\n",
    "    y_test_hat = estimator.predict(X_test_ohe)\n",
    "    \n",
    "    # Test results\n",
    "    test_accuracy = accuracy_score(y_test, y_test_hat)\n",
    "    test_recall = recall_score(y_test, y_test_hat)\n",
    "    \n",
    "    print(f\"Train accuracy: {train_accuracy}\")\n",
    "    print(f\"Train recall: {train_recall}\")\n",
    "    print(f\"Validation accuracy: {validation_accuracy}\")\n",
    "    print(f\"Validation recall:: {validation_recall}\")\n",
    "    print(f\"Test accuracy: {test_accuracy}\")\n",
    "    print(f\"test recall: {test_recall}\")\n",
    "    \n",
    "    print(f\"classification_report for test data:\")\n",
    "    \n",
    "    print(classification_report(y_test, y_test_hat))  \n",
    "    print(f\"confusion matrix:\")\n",
    "    cf = confusion_matrix(y_test, y_test_hat)\n",
    "    ConfusionMatrixDisplay.from_estimator(estimator = estimator, X = X_test_ohe, y = y_test)\n",
    "    end = time.time()\n",
    "    print (\"Time elapsed:\", end - start)\n",
    "    \n",
    "    return (train_accuracy, train_recall, validation_accuracy,validation_recall, test_accuracy, test_recall, end - start, estimator)\n"
   ]
  },
  {
   "cell_type": "code",
   "execution_count": 38,
   "id": "811b8e42",
   "metadata": {},
   "outputs": [],
   "source": [
    "def transformation(X_train, X_test):\n",
    "        # # Initialize basic transformation functions. \n",
    "        encoder = OneHotEncoder(handle_unknown='ignore', drop = \"first\")\n",
    "        scaler = StandardScaler()\n",
    "\n",
    "        \n",
    "        # Numerical columns transformation\n",
    "        X_train_num = X_train.select_dtypes(include = np.number)\n",
    "        X_test_num = X_test.select_dtypes(include = np.number)\n",
    "        scaler.fit(X_train_num) # Train scaler transformer\n",
    "        \n",
    "        # Apply scaler to numerical train and test columns.\n",
    "        # And Recreate dataframe with new data.\n",
    "        X_train_num_ss = pd.DataFrame(data = scaler.transform(X_train_num), index = X_train_num.index, \n",
    "                                      columns = scaler.get_feature_names_out())\n",
    "        X_test_num_ss = pd.DataFrame(data = scaler.transform(X_test_num), index = X_test_num.index, \n",
    "                                      columns = scaler.get_feature_names_out())\n",
    " \n",
    "        # Categorical transformation\n",
    "        X_train_cat = X_train.select_dtypes(include = [object, 'category'])\n",
    "        X_test_cat = X_test.select_dtypes(include = [object, 'category'])\n",
    "        encoder.fit(X_train_cat) # Train categorical transformer on train data\n",
    "        \n",
    "        # Apply categorical tranformer to categorical train and test columns.\n",
    "        # And Recreate dataframe with new data.\n",
    "        X_train_cat_encoded = pd.DataFrame(data = encoder.transform(X_train_cat).todense(), index = X_train_cat.index, \n",
    "                                           columns = encoder.get_feature_names_out())\n",
    "        X_test_cat_encoded = pd.DataFrame(data = encoder.transform(X_test_cat).todense(), index = X_test_cat.index, \n",
    "                                           columns = encoder.get_feature_names_out())\n",
    "        \n",
    "        # Combine numerical and categorial columns\n",
    "        X_train = pd.concat([X_train_num_ss, X_train_cat_encoded], axis = 1)\n",
    "        X_test = pd.concat([X_test_num_ss, X_test_cat_encoded], axis = 1)\n",
    "        \n",
    "        return X_train, X_test"
   ]
  },
  {
   "cell_type": "code",
   "execution_count": 39,
   "id": "5cdb6088",
   "metadata": {},
   "outputs": [],
   "source": [
    "# Define Predictors and predictable variable\n",
    "y = df[\"y\"]\n",
    "X = df.drop(\"y\", axis = 1)"
   ]
  },
  {
   "cell_type": "code",
   "execution_count": 300,
   "id": "65456053",
   "metadata": {},
   "outputs": [],
   "source": [
    "# Perform split to Training and testing data\n",
    "X_new, X_test, y_new, y_test = train_test_split(X, y, test_size = 0.15, random_state = 42)\n",
    "# X_test and y_test will be used for the finall validation. \n",
    "# X_new will be splitted into train and validation data."
   ]
  },
  {
   "cell_type": "code",
   "execution_count": null,
   "id": "8eeff53b",
   "metadata": {},
   "outputs": [],
   "source": []
  },
  {
   "cell_type": "markdown",
   "id": "7303e1a2",
   "metadata": {},
   "source": [
    "##### Baseline model"
   ]
  },
  {
   "cell_type": "code",
   "execution_count": 132,
   "id": "cd823299",
   "metadata": {},
   "outputs": [],
   "source": [
    "# For baseline model"
   ]
  },
  {
   "cell_type": "code",
   "execution_count": 269,
   "id": "4b632f62",
   "metadata": {},
   "outputs": [],
   "source": [
    "X_ss_oha, not_used = transformation(X_new, X_test)"
   ]
  },
  {
   "cell_type": "code",
   "execution_count": 218,
   "id": "f39f5adf",
   "metadata": {},
   "outputs": [
    {
     "data": {
      "text/plain": [
       "(35009, 63)"
      ]
     },
     "execution_count": 218,
     "metadata": {},
     "output_type": "execute_result"
    }
   ],
   "source": [
    "X_ss_oha.shape"
   ]
  },
  {
   "cell_type": "code",
   "execution_count": 272,
   "id": "135eb64a",
   "metadata": {},
   "outputs": [],
   "source": [
    "logreg = LogisticRegression()\n",
    "kf = StratifiedKFold(4)"
   ]
  },
  {
   "cell_type": "code",
   "execution_count": 273,
   "id": "39931591",
   "metadata": {},
   "outputs": [],
   "source": [
    "results_baseline = cross_validate(logreg, X = X_ss_oha, y = y_new, cv = kf, scoring = [\"accuracy\", \"recall\"])"
   ]
  },
  {
   "cell_type": "code",
   "execution_count": 274,
   "id": "faacc283",
   "metadata": {},
   "outputs": [
    {
     "name": "stdout",
     "output_type": "stream",
     "text": [
      "Baseline model mean recall:  0.23482883496347653\n",
      "Baseline model mean accuracy:  0.9004255507539751\n"
     ]
    }
   ],
   "source": [
    "print(\"Baseline model mean recall: \" , np.mean(list(results_baseline[\"test_recall\"])))\n",
    "print(\"Baseline model mean accuracy: \" , np.mean(list(results_baseline['test_accuracy'])))"
   ]
  },
  {
   "cell_type": "markdown",
   "id": "0ae31714",
   "metadata": {},
   "source": [
    "##### Baseline model with class imbalance1"
   ]
  },
  {
   "cell_type": "code",
   "execution_count": 275,
   "id": "1215af99",
   "metadata": {},
   "outputs": [],
   "source": [
    "logreg2 = LogisticRegression(class_weight = {1:6, 0:1})\n",
    "result_baseline_weight = cross_validate(logreg2, X = X_train, y = y_new, cv = kf, scoring = [\"accuracy\", \"recall\"])"
   ]
  },
  {
   "cell_type": "code",
   "execution_count": 276,
   "id": "bee06184",
   "metadata": {},
   "outputs": [
    {
     "name": "stdout",
     "output_type": "stream",
     "text": [
      "Baseline model with weights mean recall:  0.6001511493541332\n",
      "Baseline model with weights mean accuracy:  0.8491245218928333\n"
     ]
    }
   ],
   "source": [
    "print(\"Baseline model with weights mean recall: \" , np.mean(list(result_baseline_weight[\"test_recall\"])))\n",
    "print(\"Baseline model with weights mean accuracy: \" , np.mean(list(result_baseline_weight['test_accuracy'])))"
   ]
  },
  {
   "cell_type": "markdown",
   "id": "4e4e8c45",
   "metadata": {},
   "source": [
    "##### Baseline model with class imbalance1"
   ]
  },
  {
   "cell_type": "code",
   "execution_count": 277,
   "id": "6b5632a1",
   "metadata": {},
   "outputs": [],
   "source": [
    "sm = SMOTE(sampling_strategy = 0.5, random_state = 42)\n",
    "X_train_sm, y_train_sm = sm.fit_resample(X_train, y_new)\n",
    "logreg3 = LogisticRegression(class_weight = {1:3, 0:1})\n",
    "result_baseline_weight_sm= cross_validate(logreg3, X = X_train_sm, y = y_train_sm, cv = kf, scoring = [\"accuracy\", \"recall\"])"
   ]
  },
  {
   "cell_type": "code",
   "execution_count": 278,
   "id": "ab4b6606",
   "metadata": {},
   "outputs": [
    {
     "name": "stdout",
     "output_type": "stream",
     "text": [
      "Baseline model with weights and SMOTE mean recall:  0.7364662483459947\n",
      "Baseline model with weights and SMOTE mean accuracy:  0.7182278840943479\n"
     ]
    }
   ],
   "source": [
    "print(\"Baseline model with weights and SMOTE mean recall: \" , np.mean(list(result_baseline_weight_sm[\"test_recall\"])))\n",
    "print(\"Baseline model with weights and SMOTE mean accuracy: \" , np.mean(list(result_baseline_weight_sm['test_accuracy'])))"
   ]
  },
  {
   "cell_type": "markdown",
   "id": "b13f0c29",
   "metadata": {},
   "source": [
    "##### Basic models without tuning "
   ]
  },
  {
   "cell_type": "code",
   "execution_count": 282,
   "id": "1718eaf2",
   "metadata": {},
   "outputs": [],
   "source": [
    "# Lets define function to check our models.\n",
    "def get_score(X, y,  model = LogisticRegression(max_iter = 1000),cv = kf, grid_search = False, grid = None):\n",
    "\n",
    "    # Timing, for debugging and comparison purposes\n",
    "    start = time.time()\n",
    "    \n",
    "    # Define our model\n",
    "    model_used = model\n",
    "    print(f\"Model {model_used} calculations:\")\n",
    "    \n",
    "    # One hot encode of categorical data. There is no numerical in this dataset so we will OHE before splitting to \n",
    "    # train and validation. \n",
    "    X_train, X_test_funct= transformation(X, X_test)\n",
    "    \n",
    "    # Imbalance problem\n",
    "    X_train_sm, y_train_sm = sm.fit_resample(X_train, y)\n",
    "    \n",
    "    cv_results = cross_validate(model_used, X = X_train_sm, y = y_train_sm, scoring = [\"recall\", \"accuracy\"], cv = cv, return_train_score=True, return_estimator = True)\n",
    "    estimator = cv_results[\"estimator\"][0]\n",
    "    train_accuracy =np.mean(cv_results[\"train_accuracy\"]) \n",
    "    train_recall = np.mean(cv_results[\"train_recall\"]) \n",
    "    validation_accuracy = np.mean(cv_results[\"test_accuracy\"]) \n",
    "    validation_recall = np.mean(cv_results[\"test_recall\"]) \n",
    "    fit_time = np.mean(cv_results[\"fit_time\"])\n",
    "    \n",
    "    # Predictions\n",
    "#    y_train_hat = estimator.predict(X_train_sm)\n",
    "    y_test_hat = estimator.predict(X_test_funct)\n",
    "    \n",
    "    # Test results\n",
    "    test_accuracy = accuracy_score(y_test, y_test_hat)\n",
    "    test_recall = recall_score(y_test, y_test_hat)\n",
    "    \n",
    "#     print(f\"Train accuracy: {train_accuracy}\")\n",
    "#     print(f\"Train recall: {train_recall}\")\n",
    "#     print(f\"Validation accuracy: {validation_accuracy}\")\n",
    "#     print(f\"Validation recall:: {validation_recall}\")\n",
    "#     print(f\"Test accuracy: {test_accuracy}\")\n",
    "#     print(f\"test recall: {test_recall}\")\n",
    "    \n",
    "#     print(f\"classification_report for test data:\")\n",
    "    \n",
    "# #     print(classification_report(y_test, y_test_hat))  \n",
    "# #     print(f\"confusion matrix:\")\n",
    "# #     cf = confusion_matrix(y_test, y_test_hat)\n",
    "# #     ConfusionMatrixDisplay.from_estimator(estimator = estimator, X = X_test_ohe, y = y_test)\n",
    "    end = time.time()\n",
    "    print (\"Time elapsed:\", end - start)\n",
    "    \n",
    "    return (train_accuracy, train_recall, validation_accuracy,validation_recall, test_accuracy, test_recall, end - start, estimator)\n"
   ]
  },
  {
   "cell_type": "code",
   "execution_count": 310,
   "id": "5872e6c9",
   "metadata": {},
   "outputs": [],
   "source": [
    "Model_list = {\"Gaussian Naive Bayes\":GaussianNB(),\"Logistic Regression\": LogisticRegression(class_weight = {1:3, 0:1}), \"Decision tree\": DecisionTreeClassifier(class_weight = {1:3, 0:1}) ,\n",
    "              \"Random Forest\": RandomForestClassifier(class_weight = {1:3, 0:1}),  \"Gradient Boosting\":GradientBoostingClassifier() ,\n",
    "             \"Ada Boost\":AdaBoostClassifier()}"
   ]
  },
  {
   "cell_type": "code",
   "execution_count": null,
   "id": "96d9eae4",
   "metadata": {},
   "outputs": [],
   "source": []
  },
  {
   "cell_type": "code",
   "execution_count": 314,
   "id": "590cd7d4",
   "metadata": {},
   "outputs": [
    {
     "name": "stdout",
     "output_type": "stream",
     "text": [
      "Model GaussianNB() calculations:\n",
      "Time elapsed: 1.263598918914795\n",
      "Model LogisticRegression(class_weight={0: 1, 1: 3}) calculations:\n",
      "Time elapsed: 2.146850109100342\n",
      "Model DecisionTreeClassifier(class_weight={0: 1, 1: 3}) calculations:\n",
      "Time elapsed: 2.173898935317993\n",
      "Model RandomForestClassifier(class_weight={0: 1, 1: 3}) calculations:\n",
      "Time elapsed: 19.410176992416382\n",
      "Model GradientBoostingClassifier() calculations:\n",
      "Time elapsed: 25.88552761077881\n",
      "Model AdaBoostClassifier() calculations:\n",
      "Time elapsed: 9.867873907089233\n"
     ]
    }
   ],
   "source": [
    "sm = SMOTE(sampling_strategy = 0.5, random_state = 42)\n",
    "\n",
    "columns_df = [\"Model name\", \"Train accuracy\", \"Train recall\", \"Validation accuracy\", \"Validation recall\", \"Test accuracy\", \"Test recall\", \"Execution time\"]\n",
    "Different_models_imbalance_1 = pd.DataFrame(columns = columns_df)\n",
    "\n",
    "for key, value in Model_list.items():\n",
    "    results = get_score(X_new, y_new, value);\n",
    "    line = pd.DataFrame(np.array([[key, round(results[0], 4), round(results[1], 4), round(results[2], 4), round(results[3], 4), round(results[4],4), round(results[5],4), round(results[6],4)]]), columns = columns_df)\n",
    "    Different_models_imbalance_1 = pd.concat([Different_models_imbalance_1,line], axis = 0)"
   ]
  },
  {
   "cell_type": "code",
   "execution_count": null,
   "id": "06d72753",
   "metadata": {},
   "outputs": [],
   "source": []
  },
  {
   "cell_type": "code",
   "execution_count": null,
   "id": "bb84655a",
   "metadata": {},
   "outputs": [],
   "source": []
  },
  {
   "cell_type": "code",
   "execution_count": null,
   "id": "f16f1660",
   "metadata": {},
   "outputs": [],
   "source": []
  },
  {
   "cell_type": "code",
   "execution_count": 246,
   "id": "e7dccc1b",
   "metadata": {},
   "outputs": [],
   "source": [
    "\n"
   ]
  },
  {
   "cell_type": "code",
   "execution_count": 315,
   "id": "49e078a0",
   "metadata": {},
   "outputs": [
    {
     "data": {
      "text/html": [
       "<div>\n",
       "<style scoped>\n",
       "    .dataframe tbody tr th:only-of-type {\n",
       "        vertical-align: middle;\n",
       "    }\n",
       "\n",
       "    .dataframe tbody tr th {\n",
       "        vertical-align: top;\n",
       "    }\n",
       "\n",
       "    .dataframe thead th {\n",
       "        text-align: right;\n",
       "    }\n",
       "</style>\n",
       "<table border=\"1\" class=\"dataframe\">\n",
       "  <thead>\n",
       "    <tr style=\"text-align: right;\">\n",
       "      <th></th>\n",
       "      <th>Model name</th>\n",
       "      <th>Train accuracy</th>\n",
       "      <th>Train recall</th>\n",
       "      <th>Validation accuracy</th>\n",
       "      <th>Validation recall</th>\n",
       "      <th>Test accuracy</th>\n",
       "      <th>Test recall</th>\n",
       "      <th>Execution time</th>\n",
       "    </tr>\n",
       "  </thead>\n",
       "  <tbody>\n",
       "    <tr>\n",
       "      <th>0</th>\n",
       "      <td>Gaussian</td>\n",
       "      <td>0.762</td>\n",
       "      <td>0.5025</td>\n",
       "      <td>0.7598</td>\n",
       "      <td>0.4979</td>\n",
       "      <td>0.8374</td>\n",
       "      <td>0.4922</td>\n",
       "      <td>1.2636</td>\n",
       "    </tr>\n",
       "    <tr>\n",
       "      <th>0</th>\n",
       "      <td>Logistic Regression</td>\n",
       "      <td>0.7199</td>\n",
       "      <td>0.7389</td>\n",
       "      <td>0.7182</td>\n",
       "      <td>0.7365</td>\n",
       "      <td>0.7008</td>\n",
       "      <td>0.699</td>\n",
       "      <td>2.1469</td>\n",
       "    </tr>\n",
       "    <tr>\n",
       "      <th>0</th>\n",
       "      <td>Decision tree</td>\n",
       "      <td>0.9924</td>\n",
       "      <td>0.9985</td>\n",
       "      <td>0.8695</td>\n",
       "      <td>0.8169</td>\n",
       "      <td>0.878</td>\n",
       "      <td>0.1883</td>\n",
       "      <td>2.1739</td>\n",
       "    </tr>\n",
       "    <tr>\n",
       "      <th>0</th>\n",
       "      <td>Random Forest</td>\n",
       "      <td>0.9932</td>\n",
       "      <td>0.9948</td>\n",
       "      <td>0.9138</td>\n",
       "      <td>0.8306</td>\n",
       "      <td>0.8935</td>\n",
       "      <td>0.1641</td>\n",
       "      <td>19.4102</td>\n",
       "    </tr>\n",
       "    <tr>\n",
       "      <th>0</th>\n",
       "      <td>Gradient Boosting</td>\n",
       "      <td>0.9048</td>\n",
       "      <td>0.7913</td>\n",
       "      <td>0.8791</td>\n",
       "      <td>0.719</td>\n",
       "      <td>0.8958</td>\n",
       "      <td>0.1384</td>\n",
       "      <td>25.8855</td>\n",
       "    </tr>\n",
       "    <tr>\n",
       "      <th>0</th>\n",
       "      <td>Ada Boost</td>\n",
       "      <td>0.8567</td>\n",
       "      <td>0.7014</td>\n",
       "      <td>0.8388</td>\n",
       "      <td>0.6475</td>\n",
       "      <td>0.8877</td>\n",
       "      <td>0.291</td>\n",
       "      <td>9.8679</td>\n",
       "    </tr>\n",
       "  </tbody>\n",
       "</table>\n",
       "</div>"
      ],
      "text/plain": [
       "            Model name Train accuracy Train recall Validation accuracy  \\\n",
       "0             Gaussian          0.762       0.5025              0.7598   \n",
       "0  Logistic Regression         0.7199       0.7389              0.7182   \n",
       "0        Decision tree         0.9924       0.9985              0.8695   \n",
       "0        Random Forest         0.9932       0.9948              0.9138   \n",
       "0    Gradient Boosting         0.9048       0.7913              0.8791   \n",
       "0            Ada Boost         0.8567       0.7014              0.8388   \n",
       "\n",
       "  Validation recall Test accuracy Test recall Execution time  \n",
       "0            0.4979        0.8374      0.4922         1.2636  \n",
       "0            0.7365        0.7008       0.699         2.1469  \n",
       "0            0.8169         0.878      0.1883         2.1739  \n",
       "0            0.8306        0.8935      0.1641        19.4102  \n",
       "0             0.719        0.8958      0.1384        25.8855  \n",
       "0            0.6475        0.8877       0.291         9.8679  "
      ]
     },
     "execution_count": 315,
     "metadata": {},
     "output_type": "execute_result"
    }
   ],
   "source": [
    "Different_models_imbalance_1"
   ]
  },
  {
   "cell_type": "code",
   "execution_count": null,
   "id": "4e14818c",
   "metadata": {},
   "outputs": [],
   "source": []
  },
  {
   "cell_type": "code",
   "execution_count": 304,
   "id": "c4e16b30",
   "metadata": {},
   "outputs": [],
   "source": [
    "xz = GaussianNB()"
   ]
  },
  {
   "cell_type": "code",
   "execution_count": 305,
   "id": "e1405504",
   "metadata": {},
   "outputs": [
    {
     "data": {
      "text/plain": [
       "GaussianNB()"
      ]
     },
     "execution_count": 305,
     "metadata": {},
     "output_type": "execute_result"
    }
   ],
   "source": [
    "xz.fit(X_ss_oha, y_new)"
   ]
  },
  {
   "cell_type": "code",
   "execution_count": 306,
   "id": "1fb99179",
   "metadata": {},
   "outputs": [
    {
     "data": {
      "text/plain": [
       "<bound method _BaseNB.predict of GaussianNB()>"
      ]
     },
     "execution_count": 306,
     "metadata": {},
     "output_type": "execute_result"
    }
   ],
   "source": [
    "xz.predict"
   ]
  },
  {
   "cell_type": "code",
   "execution_count": null,
   "id": "ca7e5fdc",
   "metadata": {},
   "outputs": [],
   "source": []
  },
  {
   "cell_type": "code",
   "execution_count": null,
   "id": "7e165e8b",
   "metadata": {},
   "outputs": [],
   "source": []
  },
  {
   "cell_type": "code",
   "execution_count": 41,
   "id": "827e7a6e",
   "metadata": {},
   "outputs": [],
   "source": [
    "# Initialize kfold\n",
    "kf = KFold(5)"
   ]
  },
  {
   "cell_type": "code",
   "execution_count": 42,
   "id": "c61e2afd",
   "metadata": {},
   "outputs": [],
   "source": [
    "X_train_cat = X_new.select_dtypes(include = [object, 'string'])\n"
   ]
  },
  {
   "cell_type": "code",
   "execution_count": 43,
   "id": "3da6c3e9",
   "metadata": {},
   "outputs": [
    {
     "name": "stdout",
     "output_type": "stream",
     "text": [
      "<class 'pandas.core.frame.DataFrame'>\n",
      "Int64Index: 35009 entries, 30436 to 15795\n",
      "Data columns (total 11 columns):\n",
      " #   Column       Non-Null Count  Dtype \n",
      "---  ------       --------------  ----- \n",
      " 0   job          35009 non-null  object\n",
      " 1   marital      35009 non-null  object\n",
      " 2   education    35009 non-null  object\n",
      " 3   default      35009 non-null  object\n",
      " 4   housing      35009 non-null  object\n",
      " 5   loan         35009 non-null  object\n",
      " 6   contact      35009 non-null  object\n",
      " 7   month        35009 non-null  object\n",
      " 8   day_of_week  35009 non-null  object\n",
      " 9   poutcome     35009 non-null  object\n",
      " 10  new_age      35009 non-null  object\n",
      "dtypes: object(11)\n",
      "memory usage: 3.2+ MB\n"
     ]
    }
   ],
   "source": [
    "X_train_cat.info()"
   ]
  },
  {
   "cell_type": "code",
   "execution_count": null,
   "id": "1c220c73",
   "metadata": {},
   "outputs": [],
   "source": []
  },
  {
   "cell_type": "code",
   "execution_count": null,
   "id": "9af29fc7",
   "metadata": {},
   "outputs": [],
   "source": []
  },
  {
   "cell_type": "code",
   "execution_count": null,
   "id": "d03f6aba",
   "metadata": {},
   "outputs": [],
   "source": []
  },
  {
   "cell_type": "code",
   "execution_count": null,
   "id": "198d8dde",
   "metadata": {},
   "outputs": [],
   "source": []
  },
  {
   "cell_type": "code",
   "execution_count": null,
   "id": "5351d787",
   "metadata": {},
   "outputs": [],
   "source": []
  },
  {
   "cell_type": "code",
   "execution_count": null,
   "id": "a64f1df8",
   "metadata": {},
   "outputs": [],
   "source": []
  },
  {
   "cell_type": "code",
   "execution_count": 57,
   "id": "14c5d2a6",
   "metadata": {},
   "outputs": [],
   "source": []
  },
  {
   "cell_type": "code",
   "execution_count": null,
   "id": "7be0a104",
   "metadata": {},
   "outputs": [],
   "source": []
  },
  {
   "cell_type": "code",
   "execution_count": 76,
   "id": "556149e3",
   "metadata": {},
   "outputs": [],
   "source": []
  },
  {
   "cell_type": "code",
   "execution_count": 287,
   "id": "98d35d23",
   "metadata": {},
   "outputs": [],
   "source": [
    "def Model_CV(X_new, y_new, model = LogisticRegression()):\n",
    "    # prepare the list of results\n",
    "    Recall_train_list = []\n",
    "    Recall_test_list = []\n",
    "    Accuracy_train_list = []\n",
    "    Accuracy_test_list = []\n",
    "    model_input = LogisticRegression()\n",
    "    for train_index, test_index in kf.split(X_new): #We defined kf before. \n",
    "        X_train, X_test = X_new.iloc[train_index,:], X_new.iloc[test_index,:]\n",
    "        y_train, y_test = y_new.iloc[train_index], y_new.iloc[test_index]\n",
    "        \n",
    "        # Data transormation based on previous function\n",
    "        X_train, X_test = transformation(X_train, X_test)\n",
    "\n",
    "        #Modeling\n",
    "        model = model_input          # Define our model based on function inputs\n",
    "        model.fit(X_train, y_train)  # Train the model based on train data. \n",
    "        y_train_hat = model.predict(X_train)  # Predict Y train\n",
    "        y_test_hat = model.predict(X_test)    # Preduct Y test\n",
    "        \n",
    "        #Calculate scores\n",
    "        Accuracy_train = accuracy_score(y_train, y_train_hat)\n",
    "        Accuracy_test = accuracy_score(y_test, y_test_hat)\n",
    "        Recall_train = recall_score(y_train, y_train_hat)\n",
    "        Recall_test = recall_score(y_test, y_test_hat)\n",
    "        \n",
    "        #Add scores for each split into overall list of scores\n",
    "        Accuracy_train_list.append(Accuracy_train)\n",
    "        Accuracy_test_list.append(Accuracy_test)\n",
    "        Recall_train_list.append(Recall_train)\n",
    "        Recall_test_list.append(Recall_test)\n",
    "    \n",
    "    # Find mean values and standard deviation of test scores.\n",
    "    print(f\"Accuracy train {np.mean(Accuracy_train_list)}\")\n",
    "    print(f\"Accuracy test {np.mean(Accuracy_test_list)}\")\n",
    "    print(f\"Recall train {np.mean(Recall_train_list)}\")\n",
    "    print(f\"Recall test {np.mean(Recall_test_list)}\")\n",
    "    cm = confusion_matrix(y_test, y_test_hat)\n",
    "    ConfusionMatrixDisplay(confusion_matrix = cm).plot()\n",
    "    plot_roc_curve(model, X_test, y_test)"
   ]
  },
  {
   "cell_type": "code",
   "execution_count": 92,
   "id": "13201ebb",
   "metadata": {},
   "outputs": [
    {
     "data": {
      "text/plain": [
       "(array([0.       , 0.0137141, 1.       ]),\n",
       " array([0.        , 0.23038605, 1.        ]),\n",
       " array([2, 1, 0]))"
      ]
     },
     "execution_count": 92,
     "metadata": {},
     "output_type": "execute_result"
    }
   ],
   "source": [
    "roc_curve(y_test, y_test_hat)\n",
    "\n",
    "\n"
   ]
  },
  {
   "cell_type": "code",
   "execution_count": null,
   "id": "cc7c411a",
   "metadata": {},
   "outputs": [],
   "source": []
  },
  {
   "cell_type": "code",
   "execution_count": null,
   "id": "8de0299b",
   "metadata": {},
   "outputs": [],
   "source": []
  },
  {
   "cell_type": "code",
   "execution_count": null,
   "id": "ad2a72eb",
   "metadata": {},
   "outputs": [],
   "source": []
  },
  {
   "cell_type": "markdown",
   "id": "95931744",
   "metadata": {},
   "source": [
    "### Solving inbalance problem"
   ]
  },
  {
   "cell_type": "code",
   "execution_count": null,
   "id": "cbf762ff",
   "metadata": {},
   "outputs": [],
   "source": [
    "# In our original dataset records with injuries represent around 15%\n",
    "# We will use 3 strategies:  \n",
    "# 1) Increase this proportion of injury crash records by artificial creating samples (SMOTE)\n",
    "# to 50% and increase the weight of such records to 2 compare to weight 1 for crash records without injuries\n",
    "\n",
    "Model_list = {\"Logistic Regression\": LogisticRegression(class_weight = {1:2, 0:1}, max_iter = 1000), \"Decision tree\": DecisionTreeClassifier(class_weight = {1:2, 0:1}) ,\n",
    "              \"Random Forest\": RandomForestClassifier(class_weight = {1:2, 0:1}), \"Naive Bayes\":MultinomialNB(), \"Gradient Boosting\":GradientBoostingClassifier() ,\n",
    "             \"Ada Boost\":AdaBoostClassifier(), \"XGBClassifier\" :XGBClassifier(class_weight = {1:2, 0:1}, use_label_encoder=False)}\n",
    "\n"
   ]
  },
  {
   "cell_type": "code",
   "execution_count": null,
   "id": "e992df87",
   "metadata": {},
   "outputs": [],
   "source": [
    "sm = SMOTE(sampling_strategy = 0.5, random_state = 42)\n",
    "\n",
    "columns_df = [\"Model name\", \"Train accuracy\", \"Train recall\", \"Validation accuracy\", \"Validation recall\", \"Test accuracy\", \"Test recall\", \"Execution time\"]\n",
    "Different_models_imbalance_1 = pd.DataFrame(columns = columns_df)\n",
    "for key, value in Model_list.items():\n",
    "    results = get_score2(injury_1, \"modif_INJURIES_TOTAL\", value);\n",
    "    line = pd.DataFrame(np.array([[key, round(results[0], 4), round(results[1], 4), round(results[2], 4), round(results[3], 4), round(results[4],4), round(results[5],4), round(results[6],4)]]), columns = columns_check)\n",
    "    Different_models_imbalance_1 = pd.concat([Different_models_imbalance_1,line], axis = 0)\n",
    "\n"
   ]
  },
  {
   "cell_type": "code",
   "execution_count": null,
   "id": "bf15bfea",
   "metadata": {
    "scrolled": true
   },
   "outputs": [],
   "source": [
    "# Results for imbalance problem solution: SMOTE 50%, class weight 2-1\n",
    "\n",
    "Different_models_imbalance_1"
   ]
  },
  {
   "cell_type": "code",
   "execution_count": null,
   "id": "fbd088de",
   "metadata": {},
   "outputs": [],
   "source": [
    "# 2) Increase proportion of injury crash records by artificial creating samples (SMOTE) to 50%\n",
    "# We won't change the weight of classes."
   ]
  },
  {
   "cell_type": "code",
   "execution_count": null,
   "id": "021bacd0",
   "metadata": {},
   "outputs": [],
   "source": [
    "Model_list = {\"Logistic Regression\": LogisticRegression(max_iter = 1000), \"Decision tree\": DecisionTreeClassifier() ,\n",
    "              \"Random Forest\": RandomForestClassifier(), \"Naive Bayes\":MultinomialNB(), \"Gradient Boosting\":GradientBoostingClassifier() ,\n",
    "             \"Ada Boost\":AdaBoostClassifier(), \"XGBClassifier\" :XGBClassifier(use_label_encoder=False)}\n"
   ]
  },
  {
   "cell_type": "code",
   "execution_count": null,
   "id": "d32f1f2b",
   "metadata": {},
   "outputs": [],
   "source": [
    "sm = SMOTE(sampling_strategy = 0.5, random_state = 42)\n",
    "\n",
    "columns_df = [\"Model name\", \"Train accuracy\", \"Train recall\", \"Validation accuracy\", \"Validation recall\", \"Test accuracy\", \"Test recall\", \"Execution time\"]\n",
    "Different_models_imbalance_2 = pd.DataFrame(columns = columns_df)\n",
    "for key, value in Model_list.items():\n",
    "    results = get_score2(injury_1, \"modif_INJURIES_TOTAL\", value);\n",
    "    line = pd.DataFrame(np.array([[key, round(results[0], 4), round(results[1], 4), round(results[2], 4), round(results[3], 4), round(results[4],4), round(results[5],4), round(results[6],4)]]), columns = columns_check)\n",
    "    Different_models_imbalance_2 = pd.concat([Different_models_imbalance_2,line], axis = 0)\n"
   ]
  },
  {
   "cell_type": "code",
   "execution_count": null,
   "id": "fad3278c",
   "metadata": {},
   "outputs": [],
   "source": [
    "# Results for imbalance problem solution: SMOTE 50%\n",
    "\n",
    "Different_models_imbalance_2"
   ]
  },
  {
   "cell_type": "code",
   "execution_count": null,
   "id": "9a3bc0d5",
   "metadata": {},
   "outputs": [],
   "source": [
    "# 3) Increase proportion of injury crash records by artificial creating samples (SMOTE) to 100%\n",
    "# We won't change the weight of classes."
   ]
  },
  {
   "cell_type": "code",
   "execution_count": null,
   "id": "ef28c4de",
   "metadata": {},
   "outputs": [],
   "source": [
    "Model_list = {\"Logistic Regression\": LogisticRegression(max_iter = 1000), \"Decision tree\": DecisionTreeClassifier() ,\n",
    "              \"Random Forest\": RandomForestClassifier(), \"Naive Bayes\":MultinomialNB(), \"Gradient Boosting\":GradientBoostingClassifier() ,\n",
    "             \"Ada Boost\":AdaBoostClassifier(), \"XGBClassifier\" :XGBClassifier(use_label_encoder=False)}\n"
   ]
  },
  {
   "cell_type": "code",
   "execution_count": null,
   "id": "b9492beb",
   "metadata": {},
   "outputs": [],
   "source": [
    "sm = SMOTE(sampling_strategy = 1, random_state = 42)\n",
    "\n",
    "columns_df = [\"Model name\", \"Train accuracy\", \"Train recall\", \"Validation accuracy\", \"Validation recall\", \"Test accuracy\", \"Test recall\", \"Execution time\"]\n",
    "Different_models_imbalance_3 = pd.DataFrame(columns = columns_df)\n",
    "for key, value in Model_list.items():\n",
    "    results = get_score2(injury_1, \"modif_INJURIES_TOTAL\", value);\n",
    "    line = pd.DataFrame(np.array([[key, round(results[0], 4), round(results[1], 4), round(results[2], 4), round(results[3], 4), round(results[4],4), round(results[5],4), round(results[6],4)]]), columns = columns_check)\n",
    "    Different_models_imbalance_3 = pd.concat([Different_models_imbalance_3,line], axis = 0)\n"
   ]
  },
  {
   "cell_type": "code",
   "execution_count": null,
   "id": "cfa4b446",
   "metadata": {},
   "outputs": [],
   "source": [
    "# Results for imbalance problem solution: SMOTE 100%\n",
    "Different_models_imbalance_3"
   ]
  },
  {
   "cell_type": "code",
   "execution_count": null,
   "id": "1cf86a1d",
   "metadata": {},
   "outputs": [],
   "source": [
    "\n"
   ]
  },
  {
   "cell_type": "code",
   "execution_count": null,
   "id": "d7bf9752",
   "metadata": {},
   "outputs": [],
   "source": [
    "# The best models so far:\n",
    "# Linear regression, naive bayese"
   ]
  },
  {
   "cell_type": "code",
   "execution_count": null,
   "id": "2ed0687b",
   "metadata": {},
   "outputs": [],
   "source": []
  },
  {
   "cell_type": "code",
   "execution_count": null,
   "id": "3884a21d",
   "metadata": {},
   "outputs": [],
   "source": []
  },
  {
   "cell_type": "code",
   "execution_count": null,
   "id": "0751efcb",
   "metadata": {},
   "outputs": [],
   "source": []
  },
  {
   "cell_type": "code",
   "execution_count": null,
   "id": "2b71edde",
   "metadata": {},
   "outputs": [],
   "source": [
    "# Loop with changing prediction bondaries\n",
    "list_of_thresholds = list(np.linspace(0.2, 0.8, 13))\n",
    "list_of_options=[]\n",
    "for threshold in list_of_thresholds:\n",
    "    prediction_new = [1 if x > threshold else 0 for x in predictions]\n",
    "    test_accuracy = round(accuracy_score(test_images_labels, prediction_new),4)\n",
    "    test_recall = round(recall_score(test_images_labels, prediction_new),4)\n",
    "    list_of_options.append((threshold, test_accuracy, test_recall))\n",
    "    \n",
    "\n",
    "# Base model predictions\n",
    "print(\"Optimization focusen on accuracy\")\n",
    "print(f\"Model accuracy {test_accuracy_base}. Model recall {test_recall_base}\")\n",
    "\n",
    "\n",
    "# Best prediction threshold for accuracy\n",
    "threshold_acc = sorted(list_of_options, key = lambda x: x[1], reverse = True)[0]\n",
    "print(\"Optimization focusen on accuracy\")\n",
    "print(f\"Model accuracy {threshold_acc[1]}. Model recall {threshold_acc[2]}\")\n",
    "\n",
    "\n",
    "# Best prediction threshold for recall\n",
    "threshold_recall = sorted(list_of_options, key = lambda x: x[2], reverse = True)[0]\n",
    "print(\"Optimization focusen on recall\")\n",
    "print(f\"Model accuracy {threshold_recall[1]}. Model recall {threshold_recall[2]}\")\n",
    "\n"
   ]
  },
  {
   "cell_type": "code",
   "execution_count": null,
   "id": "76023272",
   "metadata": {},
   "outputs": [],
   "source": []
  },
  {
   "cell_type": "code",
   "execution_count": null,
   "id": "7e345cfb",
   "metadata": {},
   "outputs": [],
   "source": []
  },
  {
   "cell_type": "code",
   "execution_count": null,
   "id": "01182992",
   "metadata": {},
   "outputs": [],
   "source": []
  },
  {
   "cell_type": "code",
   "execution_count": null,
   "id": "49b06a57",
   "metadata": {},
   "outputs": [],
   "source": []
  },
  {
   "cell_type": "code",
   "execution_count": null,
   "id": "12609487",
   "metadata": {},
   "outputs": [],
   "source": [
    "from sklearn.tree import DecisionTreeClassifier, plot_tree\n",
    "from sklearn.naive_bayes import MultinomialNB, ComplementNB, BernoulliNB, GaussianNB\n",
    "from sklearn.model_selection import GridSearchCV, cross_val_score, cross_validate, KFold, StratifiedKFold, train_test_split\n",
    "from sklearn.ensemble import RandomForestClassifier, GradientBoostingClassifier, AdaBoostClassifier"
   ]
  },
  {
   "cell_type": "code",
   "execution_count": null,
   "id": "700a7b95",
   "metadata": {},
   "outputs": [],
   "source": []
  },
  {
   "cell_type": "code",
   "execution_count": null,
   "id": "ba9bcbe8",
   "metadata": {},
   "outputs": [],
   "source": []
  },
  {
   "cell_type": "code",
   "execution_count": null,
   "id": "6ac8dd16",
   "metadata": {},
   "outputs": [],
   "source": []
  },
  {
   "cell_type": "code",
   "execution_count": null,
   "id": "cf5a1c4d",
   "metadata": {},
   "outputs": [],
   "source": []
  },
  {
   "cell_type": "code",
   "execution_count": null,
   "id": "d75d8bf3",
   "metadata": {},
   "outputs": [],
   "source": []
  },
  {
   "cell_type": "code",
   "execution_count": null,
   "id": "a499e364",
   "metadata": {},
   "outputs": [],
   "source": [
    "df.info()"
   ]
  },
  {
   "cell_type": "code",
   "execution_count": null,
   "id": "3b88e70c",
   "metadata": {},
   "outputs": [],
   "source": []
  },
  {
   "cell_type": "code",
   "execution_count": null,
   "id": "d627bafa",
   "metadata": {},
   "outputs": [],
   "source": []
  },
  {
   "cell_type": "markdown",
   "id": "6abd0751",
   "metadata": {},
   "source": [
    "### EDA "
   ]
  },
  {
   "cell_type": "code",
   "execution_count": null,
   "id": "3c080aa0",
   "metadata": {},
   "outputs": [],
   "source": [
    "# Car crashes/car crashes with injuries and months\n",
    "sns.set_theme(style=\"whitegrid\")\n",
    "\n",
    "fig, ax = plt.subplots(figsize=(14, 8))\n",
    "x_labels = list(df[\"education\"].value_counts().index)\n",
    "\n",
    "sns.set_color_codes(\"muted\")\n",
    "sns.barplot(data = df, x = df.groupby(\"education\")[\"y\"].sum().index, \n",
    "            y =  df.groupby(\"education\")[\"y\"].sum()/df.groupby(\"education\")[\"y\"].count()*100, \n",
    "            color = \"b\", label = \"Signed percetange\")\n",
    "ax.legend(ncol=2, loc=\"upper left\", frameon=True)\n",
    "ax.set_xlabel(\"Level of education\")\n",
    "ax.set_ylabel(\"% of signed customers\")\n",
    "ax.set_title(\"Dependancy of education to the percentage of sign up people\")\n",
    "plt.savefig(\"./img/EDA1.png\")\n"
   ]
  },
  {
   "cell_type": "code",
   "execution_count": null,
   "id": "fefb753f",
   "metadata": {},
   "outputs": [],
   "source": []
  },
  {
   "cell_type": "code",
   "execution_count": null,
   "id": "a8fad802",
   "metadata": {},
   "outputs": [],
   "source": []
  },
  {
   "cell_type": "code",
   "execution_count": null,
   "id": "65a89d59",
   "metadata": {},
   "outputs": [],
   "source": [
    "# This section is commented to save computation time.\n",
    "# Finall dataframe after reading 3 databases and joining is saved in pickle file.\n",
    "\n",
    "# Read main dataframe containing major informatio about car crashes\n",
    "# df = pd.read_csv(\"Traffic_Crashes_-_Crashes.csv\")\n",
    "# df.shape\n",
    "# # read  dataframe containing additional information about people in crases\n",
    "# df2 = pd.read_csv(\"Traffic_Crashes_-_People (1).csv\", low_memory=False)\n",
    "# df2.shape\n",
    "# # read  dataframe containing additional information about cars in crases\n",
    "# df_car = pd.read_csv(\"Traffic_Crashes_-_Vehicles.csv\", low_memory=False)\n",
    "# df_car.shape"
   ]
  },
  {
   "cell_type": "code",
   "execution_count": null,
   "id": "96eddcf1",
   "metadata": {},
   "outputs": [],
   "source": [
    "# This section is commented to save computation time.\n",
    "# Finall dataframe after reading 3 databases and joining is saved in pickle file.\n",
    "\n",
    "# Check size of dataframes\n",
    "# print(f\"N of features in dataframe 1 - {df.shape[1]}\")\n",
    "# print(df.columns)\n",
    "# print(f\"N of features in dataframe 2 - {df2.shape[1]}\")\n",
    "# print(df2.columns)\n",
    "# print(f\"N of features in dataframe 2 - {df_car.shape[1]}\")\n",
    "# print(df_car.columns)"
   ]
  },
  {
   "cell_type": "code",
   "execution_count": null,
   "id": "092e5dac",
   "metadata": {},
   "outputs": [],
   "source": [
    "# This section is commented to save computation time.\n",
    "# Finall dataframe after reading 3 databases and joining is saved in pickle file.\n",
    "\n",
    "# Make new dataframe using previous data\n",
    "# df_raw = pd.concat([df, df2, df_car], axis = 1, join = \"inner\" , keys = \"CRASH_RECORD_ID\")\n",
    "# df_raw.columns = df_raw.columns.droplevel(0)\n",
    "# df_raw = df_raw.loc[:,~df_raw.columns.duplicated()]\n",
    "\n",
    "# Save data in pickle file for further steps\n",
    "# with open('./data/df_raw.pickle', 'wb') as df_raw_pickled:   \n",
    "#                 pickle.dump(df_raw, df_raw_pickled, pickle.HIGHEST_PROTOCOL)\n",
    "# print(\"Pickled\") \n",
    "\n",
    "# We will make additional branch of Geo Data only\n",
    "#geo_columns = [\"CRASH_RECORD_ID\", \"INJURIES_TOTAL\", \"INJURIES_FATAL\", \"INJURIES_INCAPACITATING\", \"LATITUDE\", \"LONGITUDE\", \"CRASH_MONTH\", \"CRASH_HOUR\"]\n",
    "#df_geo = df_raw[geo_columns]\n",
    "# df_export = df_geo.copy()\n",
    "# with pd.ExcelWriter('geo.xlsx') as writer:  \n",
    "#     df_export.to_excel(writer, sheet_name='Sheet_name_1')\n"
   ]
  },
  {
   "cell_type": "code",
   "execution_count": null,
   "id": "5442454c",
   "metadata": {},
   "outputs": [],
   "source": [
    "\n"
   ]
  },
  {
   "cell_type": "markdown",
   "id": "845d28c9",
   "metadata": {},
   "source": [
    "### Data inspection"
   ]
  },
  {
   "cell_type": "code",
   "execution_count": null,
   "id": "6dbdd2db",
   "metadata": {},
   "outputs": [],
   "source": [
    "# Check data for columns with high percentage of low representation.\n",
    "# If column has less more than 30% of missing data we will consider removing it using the common sense.\n",
    "# Another filter - how many possible parameters for each column we have.\n",
    "def checker(df):\n",
    "    for column in df.columns:\n",
    "        print(f\"{round((1-df[column].isna().sum()/len(df[column]))*100, 2)}% of data exist, N of unique parameters: {len(df[column].value_counts().keys())} in column {column}\")\n",
    "\n",
    "print(\"Car crash dataframe:\")        \n",
    "checker(df_raw)"
   ]
  },
  {
   "cell_type": "code",
   "execution_count": null,
   "id": "a849a1b0",
   "metadata": {},
   "outputs": [],
   "source": [
    "# inspect some data columns\n",
    "df_raw[\"CRASH_DATE\"]"
   ]
  },
  {
   "cell_type": "code",
   "execution_count": null,
   "id": "fd82f5c8",
   "metadata": {},
   "outputs": [],
   "source": [
    "# inspect values in each column one by one\n",
    "df_raw[\"BEAT_OF_OCCURRENCE\"].value_counts()"
   ]
  },
  {
   "cell_type": "markdown",
   "id": "5d1ad599",
   "metadata": {},
   "source": [
    "### Data cleaning"
   ]
  },
  {
   "cell_type": "code",
   "execution_count": null,
   "id": "8ccd9948",
   "metadata": {},
   "outputs": [],
   "source": [
    "# Based on this data we will form several lists to drop garbage data that: Too high count of unique values, too much info missing, \n",
    "# not relevant info (based on studies in this field), interrelated, dublicates etc. \n",
    "# We will make it in 4 variables so we can see which dataframe it related\n",
    "\n",
    "df_to_drop = [\"RD_NO\", 'CRASH_DATE_EST_I', 'CRASH_DATE',\"LANE_CNT\", \"REPORT_TYPE\", \"ALIGNMENT\", 'INTERSECTION_RELATED_I',\n",
    "              'NOT_RIGHT_OF_WAY_I', 'HIT_AND_RUN_I', \"DATE_POLICE_NOTIFIED\", \"STREET_NO\", \"STREET_DIRECTION\", \"STREET_NAME\", \n",
    "              \"BEAT_OF_OCCURRENCE\", \"PHOTOS_TAKEN_I\", \"STATEMENTS_TAKEN_I\", \"DOORING_I\", \"WORK_ZONE_TYPE\", \"WORKERS_PRESENT_I\", \n",
    "              'LATITUDE', 'LONGITUDE', 'LOCATION', \"WORK_ZONE_I\", \"CRASH_TYPE\"]\n",
    "df2_to_drop = [\"PERSON_ID\", \"PERSON_TYPE\", \"RD_NO\", \"VEHICLE_ID\", \"CRASH_DATE\", \"SEAT_NO\", \"CITY\", \"ZIPCODE\", \"DRIVERS_LICENSE_STATE\", \n",
    "               \"HOSPITAL\", \"INJURY_CLASSIFICATION\", \"EMS_AGENCY\", \"EMS_RUN_NO\" , \"DRIVER_ACTION\", \"PEDPEDAL_ACTION\",\"BAC_RESULT\", \n",
    "               'PEDPEDAL_VISIBILITY', 'PEDPEDAL_LOCATION', 'EJECTION', \"CELL_PHONE_USE\", \"AGE\"]\n",
    "df3_to_drop = [\"CRASH_UNIT_ID\", 'RD_NO', 'CRASH_DATE', 'UNIT_NO', \"VEHICLE_ID\", 'CMRC_VEH_I', 'MAKE', 'MODEL', 'LIC_PLATE_STATE','VEHICLE_TYPE', \n",
    "               'VEHICLE_USE', 'TRAVEL_DIRECTION', 'TOWED_I', 'FIRE_I', 'OCCUPANT_CNT', 'EXCEED_SPEED_LIMIT_I', 'TOWED_BY',\n",
    "               'TOWED_TO', 'AREA_00_I', 'AREA_01_I', 'AREA_02_I', 'AREA_03_I',\n",
    "               'AREA_04_I', 'AREA_05_I', 'AREA_06_I', 'AREA_07_I', 'AREA_08_I',\n",
    "               'AREA_09_I', 'AREA_10_I', 'AREA_11_I', 'AREA_12_I', 'AREA_99_I', 'FIRST_CONTACT_POINT', 'CMV_ID', 'USDOT_NO', 'CCMC_NO', 'ILCC_NO',\n",
    "               'COMMERCIAL_SRC', 'GVWR', 'CARRIER_NAME', 'CARRIER_STATE',\n",
    "               'CARRIER_CITY', 'HAZMAT_PLACARDS_I', 'HAZMAT_NAME', 'UN_NO',\n",
    "               'HAZMAT_PRESENT_I', 'HAZMAT_REPORT_I', 'HAZMAT_REPORT_NO',\n",
    "               'MCS_REPORT_I', 'MCS_REPORT_NO', 'HAZMAT_VIO_CAUSE_CRASH_I',\n",
    "               'MCS_VIO_CAUSE_CRASH_I', 'IDOT_PERMIT_NO', 'WIDE_LOAD_I',\n",
    "               'TRAILER1_WIDTH', 'TRAILER2_WIDTH', 'TRAILER1_LENGTH',\n",
    "               'TRAILER2_LENGTH', 'TOTAL_VEHICLE_LENGTH', 'AXLE_CNT', 'VEHICLE_CONFIG',\n",
    "               'CARGO_BODY_TYPE', 'LOAD_TYPE', 'HAZMAT_OUT_OF_SERVICE_I',\n",
    "               'MCS_OUT_OF_SERVICE_I', 'HAZMAT_CLASS', \"MANEUVER\", \"UNIT_TYPE\"]\n",
    "\n",
    "df_to_drop_check= [\"SEC_CONTRIBUTORY_CAUSE\", 'INJURIES_NON_INCAPACITATING', 'INJURIES_REPORTED_NOT_EVIDENT', 'INJURIES_NO_INDICATION','INJURIES_UNKNOWN']\n",
    "\n"
   ]
  },
  {
   "cell_type": "markdown",
   "id": "34cf5d5b",
   "metadata": {},
   "source": [
    "##### Lets see the results of our cleaning"
   ]
  },
  {
   "cell_type": "code",
   "execution_count": null,
   "id": "9dc20fc2",
   "metadata": {},
   "outputs": [],
   "source": [
    "print(\"Before features removal\")\n",
    "print(f\"N of features in dataframe 1 : {df_raw.shape[1]}, number of records {df_raw.shape[0]}\")\n",
    "df_raw = df_raw.drop(df_to_drop + df_to_drop_check + df2_to_drop + df3_to_drop, axis = 1)"
   ]
  },
  {
   "cell_type": "code",
   "execution_count": null,
   "id": "f9115ca8",
   "metadata": {},
   "outputs": [],
   "source": [
    "print(\"After features removal\")\n",
    "print(f\"N of features in dataframe 1 : {df_raw.shape[1]}, number of records {df_raw.shape[0]}\")\n",
    "df_checkpoint = df_raw.copy()\n"
   ]
  },
  {
   "cell_type": "code",
   "execution_count": null,
   "id": "e1aa7e90",
   "metadata": {},
   "outputs": [],
   "source": [
    "print(df_raw.columns)"
   ]
  },
  {
   "cell_type": "code",
   "execution_count": null,
   "id": "dc5d628d",
   "metadata": {},
   "outputs": [],
   "source": [
    "df_raw.isna().mean()"
   ]
  },
  {
   "cell_type": "markdown",
   "id": "18e4473a",
   "metadata": {},
   "source": [
    "### Filling missing values and features engineering"
   ]
  },
  {
   "cell_type": "markdown",
   "id": "41ba9ac6",
   "metadata": {},
   "source": [
    "To make our model work we need to fill missing values and perform binning of some categorical values.\n",
    "For example our POSTED_SPEED_LIMIT column consist of 29 unique values, that is far our of range usual speed limit signs on roads."
   ]
  },
  {
   "cell_type": "code",
   "execution_count": null,
   "id": "43233e15",
   "metadata": {},
   "outputs": [],
   "source": [
    "# fill missing values :\n",
    "df_raw[\"INJURIES_TOTAL\"] = df_raw[\"INJURIES_TOTAL\"].fillna(0)\n",
    "df_raw[\"INJURIES_INCAPACITATING\"] = df_raw[\"INJURIES_INCAPACITATING\"].fillna(0)\n",
    "df_raw[\"INJURIES_FATAL\"] = df_raw[\"INJURIES_FATAL\"].fillna(0)\n",
    "df_raw[\"MOST_SEVERE_INJURY\"] = df_raw[\"MOST_SEVERE_INJURY\"].fillna(\"NO INDICATION OF INJURY\")\n",
    "df_raw[\"VEHICLE_YEAR\"] = df_raw.VEHICLE_YEAR.fillna(2020) # We will use actual year.\n",
    "df_raw[\"SEX\"] = df_raw[\"SEX\"].fillna(\"M\")\n",
    "# Age group was removed from our exploring during later stages due to high amount of missing values\n",
    "#df_raw[\"AGE\"] = df_raw.AGE.fillna(np.random.normal(loc = np.mean(df_raw.AGE[df_raw.AGE > 0]), scale = np.std(df_raw.AGE[df_raw.AGE > 0])))\n",
    "df_raw[\"NUM_PASSENGERS\"] = df_raw.NUM_PASSENGERS.fillna(0)\n",
    "\n"
   ]
  },
  {
   "cell_type": "markdown",
   "id": "53440e83",
   "metadata": {},
   "source": [
    "Next step will be making bins for data, so we can divide split data into several categories and reduce dimensionality."
   ]
  },
  {
   "cell_type": "code",
   "execution_count": null,
   "id": "9025fbd9",
   "metadata": {},
   "outputs": [],
   "source": [
    "# Speed limits might look like a numerical value, but it represented not by actual speed of car but by speed sign.\n",
    "# It will be considered categorical value.\n",
    "# Speed limits:\n",
    "# Parking, low speed zones <= 15\n",
    "# Small streets roads: 15-25\n",
    "# Urban roads: 25-30\n",
    "# Low speed soze<=20\n",
    "# High speed zone> 30\n",
    "\n",
    "def speed_zone(x):\n",
    "    if (x > 25) and (x <= 30):\n",
    "        return \"URBAN\"\n",
    "    elif (x > 15) and (x <= 25):\n",
    "        return \"CITY STREETS\"\n",
    "    elif x <= 15 :\n",
    "        return \"PARKIN\"   \n",
    "    else:\n",
    "        return \"HIGHWAY\""
   ]
  },
  {
   "cell_type": "code",
   "execution_count": null,
   "id": "fe30ef5b",
   "metadata": {},
   "outputs": [],
   "source": [
    "# Device condition transformaion\n",
    "\n",
    "def device_condition(x):\n",
    "    if (x == \"NO CONTROLS\") or (x == \"FUNCTIONING PROPERLY\") or (x == \"UNKNOWN\"):\n",
    "        return 1\n",
    "    else:\n",
    "        return 0\n",
    "\n",
    "# Controls device type\n",
    "def controls(x):\n",
    "    signs = [\"STOP SIGN/FLASHER\", \"OTHER REG. SIGN\", \"OTHER WARNING SIGN\", \"PEDESTRIAN CROSSING SIGN\", \"YIELD\"]\n",
    "    if (x == \"NO CONTROLS\"):\n",
    "        return \"NO_CONTROL\"\n",
    "    elif (x == \"TRAFFIC SIGNAL\") or (x == \"FLASHING CONTROL SIGNAL\"):\n",
    "        return \"TRAFFIC SIGNAL\"\n",
    "    elif x in signs:\n",
    "        return \"SIGN\"\n",
    "    else:\n",
    "        return \"OTHERS\"\n",
    "    \n",
    "    "
   ]
  },
  {
   "cell_type": "code",
   "execution_count": null,
   "id": "aa6f8354",
   "metadata": {},
   "outputs": [],
   "source": [
    "# Transformation of categorical data that can exist or not exist \n",
    "# Like if there damaged road it turns to 1, if road is good - 0\n",
    "\n",
    "def normality_check(x):\n",
    "    if (x == normal_condition) or (x == \"UNKNOWN\"):\n",
    "        return 1\n",
    "    else:\n",
    "        return 0\n",
    "   \n",
    "\n",
    "def normality_check_more(x):\n",
    "    if (x >= more_condition):\n",
    "        return 1\n",
    "    else:\n",
    "        return 0\n",
    "    \n",
    "def normality_check_less(x):\n",
    "    x = int(x)\n",
    "    if (x < less_condition):\n",
    "        return 1\n",
    "    else:\n",
    "        return 0"
   ]
  },
  {
   "cell_type": "code",
   "execution_count": null,
   "id": "7e7eadd3",
   "metadata": {},
   "outputs": [],
   "source": [
    "# we will store columns that we change in list change_column_list\n",
    "change_column_list = []\n",
    "\n",
    "# POSTED SPEED LIMIT TRANSFORMATION\n",
    "df_raw[\"modif_SPEED_ZONE\"] = df_raw.POSTED_SPEED_LIMIT.map(speed_zone).astype(\"category\")\n",
    "change_column_list.append(\"POSTED_SPEED_LIMIT\")\n",
    "\n",
    "# TRAFFIC CONTROL DEVICE TRANSFORMATION\n",
    "df_raw[\"modif_TRAFFIC_CONTROL\"] = df_raw.TRAFFIC_CONTROL_DEVICE.map(controls).astype(\"category\")\n",
    "df_raw[\"modif_is_TRAFFIC_CONTROL_working\"] = df_raw.DEVICE_CONDITION.map(device_condition)\n",
    "change_column_list.append(\"TRAFFIC_CONTROL_DEVICE\")\n",
    "change_column_list.append(\"DEVICE_CONDITION\")\n"
   ]
  },
  {
   "cell_type": "code",
   "execution_count": null,
   "id": "1b597623",
   "metadata": {},
   "outputs": [],
   "source": [
    "# DAMAGE, SEX modification\n",
    "df_raw[\"modif_sex\"] = df_raw.SEX.astype(\"category\")\n",
    "df_raw[\"modif_DAMAGE\"] = df_raw.DAMAGE.astype(\"category\")\n",
    "change_column_list.append(\"SEX\")\n",
    "change_column_list.append(\"DAMAGE\")"
   ]
  },
  {
   "cell_type": "code",
   "execution_count": null,
   "id": "a3dec69a",
   "metadata": {},
   "outputs": [],
   "source": [
    "# WEATHER_CONDITION , LIGHTING_CONDITION, ROADWAY_SURFACE_COND, ROAD_DEFECT,\n",
    "normal_condition = \"CLEAR\"\n",
    "df_raw[\"modif_is_weather_clear\"] = df_raw.WEATHER_CONDITION.map(normality_check)\n",
    "change_column_list.append(\"WEATHER_CONDITION\")\n",
    "\n",
    "normal_condition = \"DAYLIGHT\"\n",
    "df_raw[\"modif_DAYLIGHT\"] = df_raw.LIGHTING_CONDITION.map(normality_check)\n",
    "change_column_list.append(\"LIGHTING_CONDITION\")\n",
    "\n",
    "normal_condition = \"DRY\"\n",
    "df_raw[\"modif_DRY_ROAD\"] = df_raw.ROADWAY_SURFACE_COND.map(normality_check)\n",
    "change_column_list.append(\"ROADWAY_SURFACE_COND\")\n",
    "\n",
    "normal_condition = \"NO DEFECTS\"\n",
    "df_raw[\"modif_NO_ROAD_DEFECT\"] = df_raw.ROAD_DEFECT.map(normality_check)\n",
    "change_column_list.append(\"ROAD_DEFECT\")\n"
   ]
  },
  {
   "cell_type": "code",
   "execution_count": null,
   "id": "464c7cb5",
   "metadata": {},
   "outputs": [],
   "source": [
    "# Trafficway types\n",
    "def Trafficway(x):\n",
    "    if (x == \"NOT DIVIDED\") or (x == \"UNKNOWN\") or (x == \"OTHER\"):\n",
    "        return \"NOT_DIVIDED \"\n",
    "    elif (x == \"DIVIDED - W/MEDIAN BARRIER\") or (x == \"DIVIDED - W/MEDIAN (NOT RAISED)\"):\n",
    "        return \"DIVIDED\"\n",
    "    elif (x == \"ONE-WAY\"): \n",
    "        return \"ONE-WAY\"\n",
    "    elif (x == \"FOUR WAY\") or (x == \"T-INTERSECTION\") or (x == \"CENTER TURN LANE\") or (x == \"UNKNOWN INTERSECTION TYPE\") or (x == \"Y-INTERSECTION\") or (x ==\"L-INTERSECTION\"):\n",
    "        return \"INTERSECTION\"\n",
    "    elif (x == \"PARKING LOT\"):\n",
    "        return \"PARKING\"\n",
    "    else:\n",
    "        return \"OTHER\"\n",
    "\n",
    "df_raw[\"modif_ROAD_TYPE\"] = df_raw.TRAFFICWAY_TYPE.map(Trafficway).astype(\"category\")\n",
    "change_column_list.append(\"TRAFFICWAY_TYPE\")\n",
    "\n",
    "    "
   ]
  },
  {
   "cell_type": "code",
   "execution_count": null,
   "id": "697bf132",
   "metadata": {},
   "outputs": [],
   "source": [
    "# number of units\n",
    "def num_of_units(x):\n",
    "    if x == 2:\n",
    "        return \"2\"\n",
    "    elif x == 1:\n",
    "        return \"1\"\n",
    "    else:\n",
    "        return \"MULTIPLE\"\n",
    "\n",
    "df_raw[\"modif_NUM_UNITS\"] = df_raw.NUM_UNITS.map(num_of_units).astype(\"category\")\n",
    "change_column_list.append(\"NUM_UNITS\")"
   ]
  },
  {
   "cell_type": "code",
   "execution_count": null,
   "id": "6222ff74",
   "metadata": {},
   "outputs": [],
   "source": [
    "# time of accident:\n",
    "def accident_time(x):\n",
    "    x = int(x)\n",
    "    if ((x >= 0) and (x < 6)) or ((x >= 21) and (x < 24)):\n",
    "        return \"NIGHT\"\n",
    "    elif ((x >= 6) and (x < 12)):\n",
    "        return \"MORNING\"\n",
    "    elif ((x >= 12) and (x < 18)):\n",
    "        return \"DAY\"\n",
    "    else:\n",
    "        return \"EVENING\"\n",
    "    \n",
    "# Day of week:\n",
    "def day(x):\n",
    "    if (x <= 5):\n",
    "        return 1\n",
    "    else:\n",
    "        return 0\n",
    "    \n",
    "# Crush_month to season:\n",
    "# Chicago has well distinguisher 4 seasons:\n",
    "\n",
    "\n",
    "def month_tr(x):\n",
    "    if x == 12 or (x < 3):\n",
    "        return \"WINTER\"\n",
    "    elif x < 6:\n",
    "        return \"SPRING\"\n",
    "    elif x < 9:\n",
    "        return \"SUMMER\"\n",
    "    else:\n",
    "        return \"AUTUMN\"\n",
    "\n",
    "df_raw[\"modif_CRASH_HOUR\"] = df_raw.CRASH_HOUR.map(accident_time).astype(\"category\")\n",
    "df_raw[\"modif_WEEKDAY\"] = df_raw.CRASH_DAY_OF_WEEK.map(day)\n",
    "df_raw[\"modif_SEASON\"] = df_raw.CRASH_MONTH.map(month_tr).astype(\"category\")\n",
    "change_column_list.append(\"CRASH_HOUR\")\n",
    "change_column_list.append(\"CRASH_DAY_OF_WEEK\")\n",
    "change_column_list.append(\"CRASH_MONTH\")\n"
   ]
  },
  {
   "cell_type": "code",
   "execution_count": null,
   "id": "e08c9ab4",
   "metadata": {},
   "outputs": [],
   "source": [
    "# Check injuries\n",
    "def injury_transform(x):\n",
    "    if x == 0:\n",
    "        return 0\n",
    "    if x >= 1:\n",
    "        return 1\n",
    "\n",
    "df_raw[\"modif_INJURIES_TOTAL\"] = df_raw[\"INJURIES_TOTAL\"].map(injury_transform)   \n",
    "change_column_list.append(\"INJURIES_TOTAL\")\n",
    "\n"
   ]
  },
  {
   "cell_type": "code",
   "execution_count": null,
   "id": "1b2ef4cd",
   "metadata": {},
   "outputs": [],
   "source": [
    "# State transform. IL or other states\n",
    "normal_condition = \"IL\"\n",
    "df_raw[\"modif_HOME_STATE_DRIVER\"] = df_raw[\"STATE\"].map(normality_check)\n",
    "change_column_list.append(\"STATE\")\n"
   ]
  },
  {
   "cell_type": "code",
   "execution_count": null,
   "id": "8c092892",
   "metadata": {},
   "outputs": [],
   "source": [
    "# Driver vision. Normal or other\n",
    "normal_condition = \"NOT OBSCURED\"\n",
    "df_raw[\"modif_NO_VISION_PROBLEMS\"] = df_raw[\"DRIVER_VISION\"].map(normality_check)\n",
    "change_column_list.append(\"DRIVER_VISION\")\n"
   ]
  },
  {
   "cell_type": "code",
   "execution_count": null,
   "id": "69e2958e",
   "metadata": {},
   "outputs": [],
   "source": [
    "# SAFETY_EQUIPMENT. Normal or other\n",
    "def safety(x):\n",
    "    if (x == \"USAGE UNKNOWN\")  or (x == \"SAFETY BELT USED\"):\n",
    "        return \"SEFETY BELT\"\n",
    "    elif (x == \"SAFETY BELT NOT USED\")  or (x == \"HELMET NOT USED\"):\n",
    "        return \"NOT USED\"\n",
    "    else:\n",
    "        return \"NOT EXIST\"\n",
    "\n",
    "df_raw[\"modif_SAFETY_EQUIPMENT\"] = df_raw[\"SAFETY_EQUIPMENT\"].map(safety).astype(\"category\")\n",
    "change_column_list.append(\"SAFETY_EQUIPMENT\")\n"
   ]
  },
  {
   "cell_type": "code",
   "execution_count": null,
   "id": "e8a7c57d",
   "metadata": {},
   "outputs": [],
   "source": [
    "# Was removed due to lack of information.\n",
    "# # FILL missing values for age with random samples from normal distribution with mean - current age mean, and std - current age standard deviation\n",
    "# bins_age = [1, 15,18, 20, 25, 30,40,50,60,70,80,90,100]\n",
    "# df_raw[\"modif_AGE\"] = pd.cut(x = df_raw.AGE, bins = bins_age)\n",
    "# df_raw[\"modif_AGE\"] = df_raw[\"modif_AGE\"].fillna()\n",
    "# df_raw[\"modif_AGE\"] = df_raw[\"modif_AGE\"].astype(\"category\")\n",
    "# change_column_list.append(\"AGE\")\n"
   ]
  },
  {
   "cell_type": "code",
   "execution_count": null,
   "id": "ee1a50c0",
   "metadata": {},
   "outputs": [],
   "source": [
    "# Driver licence\n",
    "normal_condition = \"D\"\n",
    "df_raw[\"modif_D_DRIVING_LICENCE\"] = df_raw[\"DRIVERS_LICENSE_CLASS\"].map(normality_check)\n",
    "change_column_list.append(\"DRIVERS_LICENSE_CLASS\")"
   ]
  },
  {
   "cell_type": "code",
   "execution_count": null,
   "id": "2389daec",
   "metadata": {},
   "outputs": [],
   "source": [
    "def physical_cond(x):\n",
    "    impared = [\"IMPAIRED - DRUGS\", \"IMPAIRED - ALCOHOL AND DRUGS\", \"MEDICATED\", \"HAD BEEN DRINKING\", \"IMPAIRED - ALCOHOL\", \"REMOVED BY EMS\"]\n",
    "    other = [\"FATIGUED/ASLEEP\", \"OTHER\", \"EMOTIONAL\", \"ILLNESS/FAINTED\"]\n",
    "    if x == \"NORMAL\":\n",
    "        return \"NORMAL\"\n",
    "    elif x in impared:\n",
    "        return \"IMPARED\"\n",
    "    elif x in other:\n",
    "        return \"OTHER\"\n",
    "    else:\n",
    "        return \"UNKNOWN\"\n",
    "\n",
    "df_raw[\"modif_PHYSICAL_CONDITION_modif\"] = df_raw[\"PHYSICAL_CONDITION\"].map(physical_cond).astype(\"category\")        \n",
    "change_column_list.append(\"PHYSICAL_CONDITION\")\n"
   ]
  },
  {
   "cell_type": "code",
   "execution_count": null,
   "id": "742020c6",
   "metadata": {},
   "outputs": [],
   "source": [
    "# https://super.stanford.edu/alcohol-drug-info/buzz-buzz/what-bac\n",
    "# .13 - .15\tGross impairment of motor control. Blurred vision and major loss of balance. Onset of dysphoria (anxiety, restlessness).\n",
    "# .40 and up Onset of coma. Likelihood of death due to respiratory failure.\n",
    "def is_heavy_drunk(x):\n",
    "    if x >= 0.13:\n",
    "        return 1\n",
    "    else:\n",
    "        return 0\n",
    "    \n",
    "df_raw[\"modif_Heavy_drunk\"] = df_raw[\"BAC_RESULT VALUE\"].map(is_heavy_drunk)\n",
    "change_column_list.append(\"BAC_RESULT VALUE\")\n",
    "\n"
   ]
  },
  {
   "cell_type": "code",
   "execution_count": null,
   "id": "3215c180",
   "metadata": {},
   "outputs": [],
   "source": [
    "df_raw.columns"
   ]
  },
  {
   "cell_type": "code",
   "execution_count": null,
   "id": "c4dfdc07",
   "metadata": {},
   "outputs": [],
   "source": [
    "# N of passengers - normality_check_more with 0:\n",
    "# VEHICLE_DEFECT - normalint_check with \"NONE\"\n",
    "# VEHICLE_YEAR - normalint_check less, with 2012 (estimated 100 000 miles with 12 000 miles/year)\n",
    "# AIRBAG deployed\n",
    "\n",
    "normal_condition = 0\n",
    "df_raw[\"modif_No_PASSANGERS\"] = df_raw.NUM_PASSENGERS.map(normality_check)\n",
    "change_column_list.append(\"NUM_PASSENGERS\")\n",
    "\n",
    "more_condition = 2\n",
    "df_raw[\"modif_multiple_passangers\"] = df_raw.NUM_PASSENGERS.map(normality_check_more)\n",
    "normal_condition = \"NONE\"\n",
    "df_raw[\"modif_NO_CAR_DEFFECT\"] = df_raw.VEHICLE_DEFECT.map(normality_check)\n",
    "change_column_list.append(\"VEHICLE_DEFECT\")\n",
    "\n",
    "\n",
    "less_condition = 2012\n",
    "df_raw[\"modif_IS_OLD_CAR\"] = df_raw.VEHICLE_YEAR.map(normality_check_less)\n",
    "change_column_list.append(\"VEHICLE_YEAR\")\n",
    "\n",
    "\n",
    "df_raw[\"modif_IS_AIRBAG_DEPLOYED\"] = df_raw.AIRBAG_DEPLOYED.map(lambda x: 1 if \"DEPLOYED\" in x else 0)\n",
    "change_column_list.append(\"AIRBAG_DEPLOYED\")"
   ]
  },
  {
   "cell_type": "code",
   "execution_count": null,
   "id": "c6e342bc",
   "metadata": {},
   "outputs": [],
   "source": [
    "# columns without change\n",
    "\n",
    "df_raw[\"modif_INJURIES_FATAL\"] = df_raw[\"INJURIES_FATAL\"]\n",
    "df_raw[\"modif_INJURIES_INCAPACITATING\"] = df_raw[\"INJURIES_INCAPACITATING\"]\n",
    "change_column_list.append(\"INJURIES_FATAL\")\n",
    "change_column_list.append(\"MOST_SEVERE_INJURY\")\n",
    "change_column_list.append(\"INJURIES_INCAPACITATING\")\n"
   ]
  },
  {
   "cell_type": "code",
   "execution_count": null,
   "id": "3ddff174",
   "metadata": {},
   "outputs": [],
   "source": [
    "# columns without change\n",
    "df_raw[\"modif_PRIM_CONTRIBUTORY_CAUSE\"] = df_raw[\"PRIM_CONTRIBUTORY_CAUSE\"].astype(\"category\")\n",
    "change_column_list.append(\"PRIM_CONTRIBUTORY_CAUSE\")"
   ]
  },
  {
   "cell_type": "code",
   "execution_count": null,
   "id": "5cb8ee4a",
   "metadata": {},
   "outputs": [],
   "source": [
    "# Remove joint column\n",
    "change_column_list.append(\"CRASH_RECORD_ID\")\n"
   ]
  },
  {
   "cell_type": "code",
   "execution_count": null,
   "id": "b463dcc3",
   "metadata": {},
   "outputs": [],
   "source": [
    "df_fin =df_raw.drop(change_column_list, axis = 1)"
   ]
  },
  {
   "cell_type": "code",
   "execution_count": null,
   "id": "a178651a",
   "metadata": {},
   "outputs": [],
   "source": [
    "df_fin.info()"
   ]
  },
  {
   "cell_type": "code",
   "execution_count": null,
   "id": "23354810",
   "metadata": {},
   "outputs": [],
   "source": [
    "# Check for missing values and column type:\n",
    "for column in df_fin.columns:\n",
    "    print(f\"N of missing values : {df_fin[column].isna().sum()}, column type : {df_fin[column].dtype},  column name: {column}\")"
   ]
  },
  {
   "cell_type": "markdown",
   "id": "1bf628ce",
   "metadata": {},
   "source": [
    "### Now our data is ready and we can proceed with data exploration and data modeling"
   ]
  },
  {
   "cell_type": "markdown",
   "id": "ea2be1fa",
   "metadata": {},
   "source": [
    "# Data Exploration"
   ]
  },
  {
   "cell_type": "markdown",
   "id": "6d98a3cf",
   "metadata": {},
   "source": [
    "### Lets check how many crashes with different types of injuries we have"
   ]
  },
  {
   "cell_type": "code",
   "execution_count": null,
   "id": "aee116eb",
   "metadata": {},
   "outputs": [],
   "source": [
    "df_geo_inj = df_fin[df_fin[\"modif_INJURIES_TOTAL\"] > 0]\n",
    "df_geo_fatal = df_fin[df_fin[\"modif_INJURIES_FATAL\"] > 0]\n",
    "df_geo_inc = df_fin[df_fin[\"modif_INJURIES_INCAPACITATING\"] > 0]\n",
    "\n",
    "\n",
    "# Investigate how many crashes with injuries:\n",
    "Percentage_inj = round(df_geo_inj.shape[0]/df_fin.shape[0]*100, 1)\n",
    "\n",
    "# Investigate how many crashes with fatalities\n",
    "Percentage_fat = round(df_geo_fatal.shape[0]/df_geo_inj.shape[0]*100, 1)\n",
    "\n",
    "# Incapacitating injuries\n",
    "Percentage_inc = round(df_geo_inc.shape[0]/df_geo_inj.shape[0]*100, 1)\n",
    "\n",
    "print(f\"Car crashes with injures represent {Percentage_inj}% of all car crashes\")\n",
    "print(f\"Incapacitating injuries represent {Percentage_inc}% of all car crashes with injuries\")\n",
    "print(f\"Fatal injuries represent {Percentage_fat}% of all car crashes with injuries, in 2021 happened {df_geo_fatal.shape[0]} fatal car crashes\")"
   ]
  },
  {
   "cell_type": "markdown",
   "id": "b306a0f7",
   "metadata": {},
   "source": [
    "###  Lets see the dependancies that influence injuries"
   ]
  },
  {
   "cell_type": "code",
   "execution_count": null,
   "id": "74555534",
   "metadata": {},
   "outputs": [],
   "source": [
    "# influence of different factors to injuries\n",
    "for reason in list(df_fin.columns):\n",
    "    if reason != \"FIRST_CRASH_TYPE\":\n",
    "        \n",
    "        overall = df_fin.groupby(reason).count()[\"FIRST_CRASH_TYPE\"]\n",
    "        with_reason = df_fin[df_fin[\"modif_INJURIES_TOTAL\"] > 0].groupby(reason).count()[\"FIRST_CRASH_TYPE\"]\n",
    "        result = with_reason/overall\n",
    "        print(result)\n"
   ]
  },
  {
   "cell_type": "markdown",
   "id": "6d1996e1",
   "metadata": {},
   "source": [
    "### Lets see dependancy between car crashes with injuries and type of road"
   ]
  },
  {
   "cell_type": "code",
   "execution_count": null,
   "id": "e3a5583c",
   "metadata": {},
   "outputs": [],
   "source": [
    "# Car crashes/car crashes with injuries and different types of roads\n",
    "reason = \"modif_ROAD_TYPE\"\n",
    "overall = df_fin.groupby(reason).count()[\"FIRST_CRASH_TYPE\"]\n",
    "with_reason = df_fin[df_fin[\"modif_INJURIES_TOTAL\"] > 0].groupby(reason).count()[\"FIRST_CRASH_TYPE\"]\n",
    "heavy_injuries = df_fin[df_fin[\"modif_INJURIES_INCAPACITATING\"] > 0].groupby(reason).count()[\"FIRST_CRASH_TYPE\"]\n",
    "fatal_injuries = df_fin[df_fin[\"modif_INJURIES_FATAL\"] > 0].groupby(reason).count()[\"FIRST_CRASH_TYPE\"]\n",
    "result = with_reason/overall*100\n",
    "result2 = heavy_injuries/overall*100\n",
    "result3 = fatal_injuries/overall*100\n",
    "\n",
    "sns.set_theme(style=\"whitegrid\")\n",
    "fig, ax = plt.subplots(figsize=(14, 8))\n",
    "sns.set_color_codes(\"pastel\")\n",
    "sns.barplot(x = result.index, \n",
    "            y =  result, \n",
    "            color=\"b\", label = \"Crashes with injuries\")\n",
    "sns.set_color_codes(\"muted\")\n",
    "sns.barplot(x = result2.index, \n",
    "            y =  result2, \n",
    "            color=\"b\", label = \"Incapacitating injuries\")\n",
    "sns.barplot(x = result3.index, \n",
    "            y =  result3, \n",
    "            color=\"r\", label = \"fatal injuries\")\n",
    "ax.legend(loc=\"upper left\", frameon=True)\n",
    "ax.set_xlabel(\"Type of road\")\n",
    "ax.set_ylabel(\"Percentage of injuries\")\n",
    "ax.set_title(\"Car crashes with injuries for different types of roads\")\n",
    "plt.savefig(\"./img/Injuries_road_types.png\")\n"
   ]
  },
  {
   "cell_type": "markdown",
   "id": "a5246cdc",
   "metadata": {},
   "source": [
    "### Influence of light to car crashes"
   ]
  },
  {
   "cell_type": "code",
   "execution_count": null,
   "id": "ef70dfb8",
   "metadata": {},
   "outputs": [],
   "source": [
    "# Was it good lightning or not?\n",
    "\n",
    "reason = \"modif_DAYLIGHT\"\n",
    "overall = df_fin.groupby(reason).count()[\"FIRST_CRASH_TYPE\"]\n",
    "with_reason = df_fin[df_fin[\"modif_INJURIES_TOTAL\"] > 0].groupby(reason).count()[\"FIRST_CRASH_TYPE\"]\n",
    "heavy_injuries = df_fin[df_fin[\"modif_INJURIES_INCAPACITATING\"] > 0].groupby(reason).count()[\"FIRST_CRASH_TYPE\"]\n",
    "fatal_injuries = df_fin[df_fin[\"modif_INJURIES_FATAL\"] > 0].groupby(reason).count()[\"FIRST_CRASH_TYPE\"]\n",
    "result = with_reason/overall*100\n",
    "result2 = heavy_injuries/overall*100\n",
    "result3 = fatal_injuries/overall*100\n",
    "\n",
    "sns.set_theme(style=\"whitegrid\")\n",
    "fig, ax = plt.subplots(figsize=(4, 8))\n",
    "sns.set_color_codes(\"pastel\")\n",
    "sns.barplot(x = result.index, \n",
    "            y =  result, \n",
    "            color=\"b\", label = \"Crashes with injuries\")\n",
    "sns.set_color_codes(\"muted\")\n",
    "sns.barplot(x = result2.index, \n",
    "            y =  result2, \n",
    "            color=\"b\", label = \"Incapacitating injuries\")\n",
    "sns.barplot(x = result3.index, \n",
    "            y =  result3, \n",
    "            color=\"r\", label = \"fatal injuries\")\n",
    "\n",
    "ax.legend( loc=\"upper right\", frameon=True)\n",
    "ax.set_xlabel(\"Type of lightning\")\n",
    "ax.set_ylabel(\"Percentage of injuries\")\n",
    "ax.set_title(\"Car crashes with different lightning\")\n",
    "x_labels = [\"Bad light\", \"Good Light\"]\n",
    "ax.set_xticklabels(x_labels)\n",
    "plt.savefig(\"./img/Injuries_lightning.png\")\n",
    "\n"
   ]
  },
  {
   "cell_type": "code",
   "execution_count": null,
   "id": "4de2141a",
   "metadata": {},
   "outputs": [],
   "source": [
    "# Different time of the day\n",
    "\n",
    "reason = \"modif_CRASH_HOUR\"\n",
    "overall = df_fin.groupby(reason).count()[\"FIRST_CRASH_TYPE\"]\n",
    "with_reason = df_fin[df_fin[\"modif_INJURIES_TOTAL\"] > 0].groupby(reason).count()[\"FIRST_CRASH_TYPE\"]\n",
    "heavy_injuries = df_fin[df_fin[\"modif_INJURIES_INCAPACITATING\"] > 0].groupby(reason).count()[\"FIRST_CRASH_TYPE\"]\n",
    "fatal_injuries = df_fin[df_fin[\"modif_INJURIES_FATAL\"] > 0].groupby(reason).count()[\"FIRST_CRASH_TYPE\"]\n",
    "result = with_reason/overall*100\n",
    "result2 = heavy_injuries/overall*100\n",
    "result3 = fatal_injuries/overall*100\n",
    "\n",
    "sns.set_theme(style=\"whitegrid\")\n",
    "fig, ax = plt.subplots(figsize=(8, 8))\n",
    "sns.set_color_codes(\"pastel\")\n",
    "sns.barplot(x = result.index, \n",
    "            y =  result, \n",
    "            color=\"b\", label = \"Crashes with injuries\")\n",
    "sns.set_color_codes(\"muted\")\n",
    "sns.barplot(x = result2.index, \n",
    "            y =  result2, \n",
    "            color=\"b\", label = \"Incapacitating injuries\")\n",
    "sns.barplot(x = result3.index, \n",
    "            y =  result3, \n",
    "            color=\"r\", label = \"fatal injuries\")\n",
    "\n",
    "ax.legend(loc=\"upper left\", frameon=True)\n",
    "ax.set_xlabel(\"Time of the day\")\n",
    "ax.set_ylabel(\"Percentage of injuries\")\n",
    "ax.set_title(\"Car crashes with injuries for different time of the day\")\n",
    "plt.savefig(\"./img/Injuries_time_of_day.png\")"
   ]
  },
  {
   "cell_type": "markdown",
   "id": "7286b06e",
   "metadata": {},
   "source": [
    "### Seatbelt"
   ]
  },
  {
   "cell_type": "code",
   "execution_count": null,
   "id": "dcacd3fb",
   "metadata": {},
   "outputs": [],
   "source": [
    "reason = \"modif_SAFETY_EQUIPMENT\"\n",
    "overall = df_fin.groupby(reason).count()[\"FIRST_CRASH_TYPE\"]\n",
    "with_reason = df_fin[df_fin[\"modif_INJURIES_TOTAL\"] > 0].groupby(reason).count()[\"FIRST_CRASH_TYPE\"]\n",
    "heavy_injuries = df_fin[df_fin[\"modif_INJURIES_INCAPACITATING\"] > 0].groupby(reason).count()[\"FIRST_CRASH_TYPE\"]\n",
    "fatal_injuries = df_fin[df_fin[\"modif_INJURIES_FATAL\"] > 0].groupby(reason).count()[\"FIRST_CRASH_TYPE\"]\n",
    "result = with_reason/overall*100\n",
    "result2 = heavy_injuries/overall*100\n",
    "result3 = fatal_injuries/overall*100\n",
    "\n",
    "sns.set_theme(style=\"whitegrid\")\n",
    "fig, ax = plt.subplots(figsize=(8, 8))\n",
    "sns.set_color_codes(\"pastel\")\n",
    "sns.barplot(x = result.index, \n",
    "            y =  result, \n",
    "            color=\"b\", label = \"Crashes with injuries\")\n",
    "sns.set_color_codes(\"muted\")\n",
    "sns.barplot(x = result2.index, \n",
    "            y =  result2, \n",
    "            color=\"b\", label = \"Incapacitating injuries\")\n",
    "sns.barplot(x = result3.index, \n",
    "            y =  result3, \n",
    "            color=\"r\", label = \"fatal injuries\")\n",
    "ax.legend(loc=\"upper right\", frameon=True)\n",
    "ax.set_xlabel(\"Does a car have a seat belt\")\n",
    "ax.set_ylabel(\"Percentage of injuries\")\n",
    "ax.set_title(\"Car crashes with injuries using seatbelt\")\n",
    "plt.savefig(\"./img/Injuries_seatbelt.png\")"
   ]
  },
  {
   "cell_type": "markdown",
   "id": "c298e3b9",
   "metadata": {},
   "source": [
    "### Traffic control"
   ]
  },
  {
   "cell_type": "code",
   "execution_count": null,
   "id": "00e5ccce",
   "metadata": {},
   "outputs": [],
   "source": [
    "# Car crashes/car crashes with injuries and different types of roads\n",
    "reason = \"modif_TRAFFIC_CONTROL\"\n",
    "overall = df_fin.groupby(reason).count()[\"FIRST_CRASH_TYPE\"]\n",
    "with_reason = df_fin[df_fin[\"modif_INJURIES_TOTAL\"] > 0].groupby(reason).count()[\"FIRST_CRASH_TYPE\"]\n",
    "heavy_injuries = df_fin[df_fin[\"modif_INJURIES_INCAPACITATING\"] > 0].groupby(reason).count()[\"FIRST_CRASH_TYPE\"]\n",
    "fatal_injuries = df_fin[df_fin[\"modif_INJURIES_FATAL\"] > 0].groupby(reason).count()[\"FIRST_CRASH_TYPE\"]\n",
    "result = with_reason/overall*100\n",
    "result2 = heavy_injuries/overall*100\n",
    "result3 = fatal_injuries/overall*100\n",
    "\n",
    "sns.set_theme(style=\"whitegrid\")\n",
    "fig, ax = plt.subplots(figsize=(14, 8))\n",
    "sns.set_color_codes(\"pastel\")\n",
    "sns.barplot(x = result.index, \n",
    "            y =  result, \n",
    "            color=\"b\", label = \"Crashes with injuries\")\n",
    "sns.set_color_codes(\"muted\")\n",
    "sns.barplot(x = result2.index, \n",
    "            y =  result2, \n",
    "            color=\"b\", label = \"Incapacitating injuries\")\n",
    "sns.barplot(x = result3.index, \n",
    "            y =  result3, \n",
    "            color=\"r\", label = \"Fatal injuries\")\n",
    "ax.legend(loc=\"upper left\", frameon=True)\n",
    "ax.set_xlabel(\"Type of road\")\n",
    "ax.set_ylabel(\"Percentage of injuries\")\n",
    "ax.set_title(\"Car crashes with injuries for different types of traffic control devices\")\n",
    "plt.savefig(\"./img/Injuries_traffic control.png\")"
   ]
  },
  {
   "cell_type": "markdown",
   "id": "a06b9a10",
   "metadata": {},
   "source": [
    "### Lets see dependancy between car crashes and months of year."
   ]
  },
  {
   "cell_type": "code",
   "execution_count": null,
   "id": "756616f6",
   "metadata": {},
   "outputs": [],
   "source": [
    "# Car crashes/car crashes with injuries and months\n",
    "sns.set_theme(style=\"whitegrid\")\n",
    "\n",
    "fig, ax = plt.subplots(figsize=(14, 8))\n",
    "x_labels = [\"January\", \"February\", \"March\", \"April\", \"May\", \"June\", \"July\", \"August\", \"September\", \"October\", \"November\", \"December\"]\n",
    "sns.set_color_codes(\"pastel\")\n",
    "sns.barplot(data = df_checkpoint, x = df_checkpoint.groupby(\"CRASH_MONTH\")[\"INJURIES_TOTAL\"].count().index, \n",
    "            y =  df_checkpoint.groupby(\"CRASH_MONTH\")[\"INJURIES_TOTAL\"].count(), \n",
    "            color=\"b\", label = \"Total crashes\")\n",
    "sns.set_color_codes(\"muted\")\n",
    "sns.barplot(data = df_checkpoint, x = df_checkpoint[df_checkpoint[\"INJURIES_TOTAL\"] > 0].groupby(\"CRASH_MONTH\")[\"INJURIES_TOTAL\"].count().index, \n",
    "            y =  df_checkpoint[df_checkpoint[\"INJURIES_TOTAL\"] > 0].groupby(\"CRASH_MONTH\")[\"INJURIES_TOTAL\"].count(), \n",
    "            color = \"b\", label = \"Crashes with injuries\")\n",
    "ax.legend(ncol=2, loc=\"upper left\", frameon=True)\n",
    "ax.set_xlabel(\"Month\")\n",
    "ax.set_ylabel(\"N of car crashes\")\n",
    "ax.set_title(\"Car crashes per month\")\n",
    "ax.set_xticklabels(x_labels);\n",
    "plt.savefig(\"./img/Car_crashes_per_month.png\")\n",
    "\n"
   ]
  },
  {
   "cell_type": "code",
   "execution_count": null,
   "id": "87ef7376",
   "metadata": {},
   "outputs": [],
   "source": [
    "\n",
    "# Car car crashes with different injuries and months\n",
    "fig, ax = plt.subplots(figsize=(14, 8))\n",
    "x_labels = [\"January\", \"February\", \"March\", \"April\", \"May\", \"June\", \"July\", \"August\", \"September\", \"October\", \"November\", \"December\"]\n",
    "sns.set_color_codes(\"pastel\")\n",
    "sns.barplot(data = df_checkpoint, x = df_checkpoint[df_checkpoint[\"INJURIES_TOTAL\"] > 0].groupby(\"CRASH_MONTH\")[\"INJURIES_TOTAL\"].count().index, \n",
    "            y =  df_checkpoint[df_checkpoint[\"INJURIES_TOTAL\"] > 0].groupby(\"CRASH_MONTH\")[\"INJURIES_TOTAL\"].count(), \n",
    "            color = \"b\", label = \"Crashes with injuries\")\n",
    "sns.set_color_codes(\"muted\")\n",
    "sns.barplot(data = df_checkpoint, x = df_checkpoint[df_checkpoint[\"INJURIES_TOTAL\"] > 0].groupby(\"CRASH_MONTH\")[\"INJURIES_INCAPACITATING\"].count().index, \n",
    "            y =  df_checkpoint[df_checkpoint[\"INJURIES_INCAPACITATING\"] > 0].groupby(\"CRASH_MONTH\")[\"INJURIES_INCAPACITATING\"].count(), \n",
    "            color = \"b\", label = \"Incapacitating injuries\")\n",
    "sns.barplot(data = df_checkpoint, x = df_checkpoint[df_checkpoint[\"INJURIES_TOTAL\"] > 0].groupby(\"CRASH_MONTH\")[\"INJURIES_FATAL\"].count().index, \n",
    "            y =  df_checkpoint[df_checkpoint[\"INJURIES_FATAL\"] > 0].groupby(\"CRASH_MONTH\")[\"INJURIES_FATAL\"].count(), \n",
    "            color = \"r\", label = \"fatal injuries\")\n",
    "ax.legend(ncol=2, loc=\"upper left\", frameon=True)\n",
    "ax.set_xlabel(\"Month\")\n",
    "ax.set_ylabel(\"N of car crashes\")\n",
    "ax.set_title(\"Car crashes with injuries per month\")\n",
    "ax.set_xticklabels(x_labels);\n",
    "plt.savefig(\"./img/Car_crasheswithinjuries_per_month.png\")\n"
   ]
  },
  {
   "cell_type": "markdown",
   "id": "42da95a2",
   "metadata": {},
   "source": [
    "# Data Modeling"
   ]
  },
  {
   "cell_type": "code",
   "execution_count": null,
   "id": "0e808093",
   "metadata": {},
   "outputs": [],
   "source": [
    "injury_1 = df_fin.copy()\n",
    "\n",
    "injury_1 = injury_1.drop(\"modif_INJURIES_FATAL\", axis =1)\n",
    "injury_1 = injury_1.drop(\"modif_INJURIES_INCAPACITATING\", axis =1)\n",
    "\n",
    "injury_1.modif_INJURIES_TOTAL.value_counts(normalize = True)"
   ]
  },
  {
   "cell_type": "code",
   "execution_count": null,
   "id": "ab041de1",
   "metadata": {},
   "outputs": [],
   "source": [
    "# Lets define function to check our models.\n",
    "def get_score2(df, predict,  model = LogisticRegression(max_iter = 1000),cv = 3, grid_search = False, grid = None):\n",
    "\n",
    "    \n",
    "    # Timing, for debugging and comparison purposes\n",
    "    start = time.time()\n",
    "    \n",
    "    # Defince our y and X\n",
    "    y = df[predict]\n",
    "    X = df.drop(predict, axis = 1)\n",
    "    \n",
    "    \n",
    "    print(y.value_counts())\n",
    "    # Split data to train and test. Train data will be used for model validation, test data for model verification.\n",
    "    X_train, X_test, y_train, y_test = train_test_split(X, y, test_size = 0.25, random_state = 42)\n",
    "    \n",
    "    # Define our model\n",
    "    model_used = model\n",
    "    \n",
    "    # One hot encode of categorical data. There is no numerical in this dataset so we will OHE before splitting to \n",
    "    # train and validation. \n",
    "    ohe = OneHotEncoder(drop = 'first', handle_unknown= \"ignore\")\n",
    "    ohe.fit(X_train)\n",
    "    X_train_ohe = pd.DataFrame(ohe.transform(X_train).todense(), columns = ohe.get_feature_names_out())\n",
    "    X_test_ohe = pd.DataFrame(ohe.transform(X_test).todense(), columns = ohe.get_feature_names_out())\n",
    "    \n",
    "    \n",
    "    \n",
    "    # Imbalance problem\n",
    "    X_train_sm, y_train_sm = sm.fit_resample(X_train_ohe, y_train)\n",
    "    \n",
    "    cv_results = cross_validate(model_used, X = X_train_sm, y = y_train_sm, scoring = [\"recall\", \"accuracy\"], cv = StratifiedKFold(n_splits=cv), return_train_score=True, return_estimator = True)\n",
    "    estimator = cv_results[\"estimator\"][0]\n",
    "    train_accuracy =np.mean(cv_results[\"train_accuracy\"]) \n",
    "    train_recall = np.mean(cv_results[\"train_recall\"]) \n",
    "    validation_accuracy = np.mean(cv_results[\"test_accuracy\"]) \n",
    "    validation_recall = np.mean(cv_results[\"test_recall\"]) \n",
    "    fit_time = np.mean(cv_results[\"fit_time\"])\n",
    "    \n",
    "    # Predictions\n",
    "    y_train_hat = estimator.predict(X_train_sm)\n",
    "    y_test_hat = estimator.predict(X_test_ohe)\n",
    "    \n",
    "    # Test results\n",
    "    test_accuracy = accuracy_score(y_test, y_test_hat)\n",
    "    test_recall = recall_score(y_test, y_test_hat)\n",
    "    \n",
    "    print(f\"Train accuracy: {train_accuracy}\")\n",
    "    print(f\"Train recall: {train_recall}\")\n",
    "    print(f\"Validation accuracy: {validation_accuracy}\")\n",
    "    print(f\"Validation recall:: {validation_recall}\")\n",
    "    print(f\"Test accuracy: {test_accuracy}\")\n",
    "    print(f\"test recall: {test_recall}\")\n",
    "    \n",
    "    print(f\"classification_report for test data:\")\n",
    "    \n",
    "    print(classification_report(y_test, y_test_hat))  \n",
    "    print(f\"confusion matrix:\")\n",
    "    cf = confusion_matrix(y_test, y_test_hat)\n",
    "    ConfusionMatrixDisplay.from_estimator(estimator = estimator, X = X_test_ohe, y = y_test)\n",
    "    end = time.time()\n",
    "    print (\"Time elapsed:\", end - start)\n",
    "    \n",
    "    return (train_accuracy, train_recall, validation_accuracy,validation_recall, test_accuracy, test_recall, end - start, estimator)\n",
    "\n"
   ]
  },
  {
   "cell_type": "code",
   "execution_count": null,
   "id": "7452a04e",
   "metadata": {},
   "outputs": [],
   "source": [
    "# Lets check performance of our model based on data. \n",
    "sm = SMOTE(sampling_strategy = \"not minority\", random_state = 42)\n",
    "xc= get_score2(injury_1, \"modif_INJURIES_TOTAL\");"
   ]
  },
  {
   "cell_type": "code",
   "execution_count": null,
   "id": "fcc7fd55",
   "metadata": {},
   "outputs": [],
   "source": [
    "# Performance \n",
    "# While model has better performance than just predicting all values be the same class, \n",
    "# it has low recall that means that it often predict that there was no injury, but it actually happened.\n",
    "# That could be due to 3 major reasons: 1) Not sufficient data 2) Wrong model used 3) Class imbalance\n",
    "\n",
    "\n",
    "\n"
   ]
  },
  {
   "cell_type": "code",
   "execution_count": null,
   "id": "536d522d",
   "metadata": {},
   "outputs": [],
   "source": [
    "# Lets try other models with default values and compare their performance:\n",
    "Model_list = {\"Logistic Regression\": LogisticRegression(max_iter = 1000), \"Decision tree\": DecisionTreeClassifier() ,\n",
    "              \"Random Forest\": RandomForestClassifier(), \"Naive Bayes\":MultinomialNB(), \"Gradient Boosting\":GradientBoostingClassifier() ,\n",
    "             \"Ada Boost\":AdaBoostClassifier(), \"XGBClassifier\" :XGBClassifier(use_label_encoder=False)}\n",
    "\n",
    "\n"
   ]
  },
  {
   "cell_type": "code",
   "execution_count": null,
   "id": "3ccc3638",
   "metadata": {},
   "outputs": [],
   "source": [
    "columns_check = [\"Model name\", \"Train accuracy\", \"Train recall\", \"Validation accuracy\", \"Validation recall\", \"Test accuracy\", \"Test recall\", \"Execution time\"]\n",
    "sm = SMOTE(sampling_strategy = \"not minority\", random_state = 42)\n",
    "\n",
    "Different_models = pd.DataFrame(columns = columns_check)\n",
    "for key, value in Model_list.items():\n",
    "    results = get_score2(injury_1, \"modif_INJURIES_TOTAL\", value);\n",
    "    line = pd.DataFrame(np.array([[key, round(results[0], 4), round(results[1], 4), round(results[2], 4), round(results[3], 4), round(results[4],4), round(results[5],4), round(results[6],4)]]), columns = columns_check)\n",
    "    Different_models = pd.concat([Different_models,line], axis = 0)\n",
    "\n",
    "Different_models"
   ]
  },
  {
   "cell_type": "code",
   "execution_count": null,
   "id": "e2b53bd0",
   "metadata": {},
   "outputs": [],
   "source": [
    "Different_models"
   ]
  },
  {
   "cell_type": "code",
   "execution_count": null,
   "id": "0d64804d",
   "metadata": {},
   "outputs": [],
   "source": [
    "# While all models have low values for Test Recall (our major characteristics), we can see that 2 model\n",
    "# have better performance. Decision tree tends to overfit on training sample, but still performance is good\n",
    "# on test sample. Naive Bayese have good recall performance and have better accuracy score on test data\n",
    "\n",
    "\n",
    "\n"
   ]
  },
  {
   "cell_type": "markdown",
   "id": "b97c2e55",
   "metadata": {},
   "source": [
    "### Solving inbalance problem"
   ]
  },
  {
   "cell_type": "code",
   "execution_count": null,
   "id": "f43d9b08",
   "metadata": {},
   "outputs": [],
   "source": [
    "# In our original dataset records with injuries represent around 15%\n",
    "# We will use 3 strategies:  \n",
    "# 1) Increase this proportion of injury crash records by artificial creating samples (SMOTE)\n",
    "# to 50% and increase the weight of such records to 2 compare to weight 1 for crash records without injuries\n",
    "\n",
    "Model_list = {\"Logistic Regression\": LogisticRegression(class_weight = {1:2, 0:1}, max_iter = 1000), \"Decision tree\": DecisionTreeClassifier(class_weight = {1:2, 0:1}) ,\n",
    "              \"Random Forest\": RandomForestClassifier(class_weight = {1:2, 0:1}), \"Naive Bayes\":MultinomialNB(), \"Gradient Boosting\":GradientBoostingClassifier() ,\n",
    "             \"Ada Boost\":AdaBoostClassifier(), \"XGBClassifier\" :XGBClassifier(class_weight = {1:2, 0:1}, use_label_encoder=False)}\n",
    "\n"
   ]
  },
  {
   "cell_type": "code",
   "execution_count": null,
   "id": "9925c801",
   "metadata": {},
   "outputs": [],
   "source": [
    "sm = SMOTE(sampling_strategy = 0.5, random_state = 42)\n",
    "\n",
    "columns_df = [\"Model name\", \"Train accuracy\", \"Train recall\", \"Validation accuracy\", \"Validation recall\", \"Test accuracy\", \"Test recall\", \"Execution time\"]\n",
    "Different_models_imbalance_1 = pd.DataFrame(columns = columns_df)\n",
    "for key, value in Model_list.items():\n",
    "    results = get_score2(injury_1, \"modif_INJURIES_TOTAL\", value);\n",
    "    line = pd.DataFrame(np.array([[key, round(results[0], 4), round(results[1], 4), round(results[2], 4), round(results[3], 4), round(results[4],4), round(results[5],4), round(results[6],4)]]), columns = columns_check)\n",
    "    Different_models_imbalance_1 = pd.concat([Different_models_imbalance_1,line], axis = 0)\n",
    "\n"
   ]
  },
  {
   "cell_type": "code",
   "execution_count": null,
   "id": "cf4ec95f",
   "metadata": {
    "scrolled": true
   },
   "outputs": [],
   "source": [
    "# Results for imbalance problem solution: SMOTE 50%, class weight 2-1\n",
    "\n",
    "Different_models_imbalance_1"
   ]
  },
  {
   "cell_type": "code",
   "execution_count": null,
   "id": "967b1e39",
   "metadata": {},
   "outputs": [],
   "source": [
    "# 2) Increase proportion of injury crash records by artificial creating samples (SMOTE) to 50%\n",
    "# We won't change the weight of classes."
   ]
  },
  {
   "cell_type": "code",
   "execution_count": null,
   "id": "11ae023d",
   "metadata": {},
   "outputs": [],
   "source": [
    "Model_list = {\"Logistic Regression\": LogisticRegression(max_iter = 1000), \"Decision tree\": DecisionTreeClassifier() ,\n",
    "              \"Random Forest\": RandomForestClassifier(), \"Naive Bayes\":MultinomialNB(), \"Gradient Boosting\":GradientBoostingClassifier() ,\n",
    "             \"Ada Boost\":AdaBoostClassifier(), \"XGBClassifier\" :XGBClassifier(use_label_encoder=False)}\n"
   ]
  },
  {
   "cell_type": "code",
   "execution_count": null,
   "id": "94403ea2",
   "metadata": {},
   "outputs": [],
   "source": [
    "sm = SMOTE(sampling_strategy = 0.5, random_state = 42)\n",
    "\n",
    "columns_df = [\"Model name\", \"Train accuracy\", \"Train recall\", \"Validation accuracy\", \"Validation recall\", \"Test accuracy\", \"Test recall\", \"Execution time\"]\n",
    "Different_models_imbalance_2 = pd.DataFrame(columns = columns_df)\n",
    "for key, value in Model_list.items():\n",
    "    results = get_score2(injury_1, \"modif_INJURIES_TOTAL\", value);\n",
    "    line = pd.DataFrame(np.array([[key, round(results[0], 4), round(results[1], 4), round(results[2], 4), round(results[3], 4), round(results[4],4), round(results[5],4), round(results[6],4)]]), columns = columns_check)\n",
    "    Different_models_imbalance_2 = pd.concat([Different_models_imbalance_2,line], axis = 0)\n"
   ]
  },
  {
   "cell_type": "code",
   "execution_count": null,
   "id": "5bbb0605",
   "metadata": {},
   "outputs": [],
   "source": [
    "# Results for imbalance problem solution: SMOTE 50%\n",
    "\n",
    "Different_models_imbalance_2"
   ]
  },
  {
   "cell_type": "code",
   "execution_count": null,
   "id": "e8eabd5e",
   "metadata": {},
   "outputs": [],
   "source": [
    "# 3) Increase proportion of injury crash records by artificial creating samples (SMOTE) to 100%\n",
    "# We won't change the weight of classes."
   ]
  },
  {
   "cell_type": "code",
   "execution_count": null,
   "id": "22539a62",
   "metadata": {},
   "outputs": [],
   "source": [
    "Model_list = {\"Logistic Regression\": LogisticRegression(max_iter = 1000), \"Decision tree\": DecisionTreeClassifier() ,\n",
    "              \"Random Forest\": RandomForestClassifier(), \"Naive Bayes\":MultinomialNB(), \"Gradient Boosting\":GradientBoostingClassifier() ,\n",
    "             \"Ada Boost\":AdaBoostClassifier(), \"XGBClassifier\" :XGBClassifier(use_label_encoder=False)}\n"
   ]
  },
  {
   "cell_type": "code",
   "execution_count": null,
   "id": "ce187785",
   "metadata": {},
   "outputs": [],
   "source": [
    "sm = SMOTE(sampling_strategy = 1, random_state = 42)\n",
    "\n",
    "columns_df = [\"Model name\", \"Train accuracy\", \"Train recall\", \"Validation accuracy\", \"Validation recall\", \"Test accuracy\", \"Test recall\", \"Execution time\"]\n",
    "Different_models_imbalance_3 = pd.DataFrame(columns = columns_df)\n",
    "for key, value in Model_list.items():\n",
    "    results = get_score2(injury_1, \"modif_INJURIES_TOTAL\", value);\n",
    "    line = pd.DataFrame(np.array([[key, round(results[0], 4), round(results[1], 4), round(results[2], 4), round(results[3], 4), round(results[4],4), round(results[5],4), round(results[6],4)]]), columns = columns_check)\n",
    "    Different_models_imbalance_3 = pd.concat([Different_models_imbalance_3,line], axis = 0)\n"
   ]
  },
  {
   "cell_type": "code",
   "execution_count": null,
   "id": "39623119",
   "metadata": {},
   "outputs": [],
   "source": [
    "# Results for imbalance problem solution: SMOTE 100%\n",
    "Different_models_imbalance_3"
   ]
  },
  {
   "cell_type": "code",
   "execution_count": null,
   "id": "dafb6fab",
   "metadata": {},
   "outputs": [],
   "source": [
    "# Display all results:\n",
    "print(\"Imbalance problem 0.85/0.15\")\n",
    "display(Different_models) \n",
    "print(\"SMOTE 0.5, weight 1:2\")\n",
    "display(Different_models_imbalance_1) \n",
    "print(\"SMOTE 0.5\")\n",
    "display(Different_models_imbalance_2) \n",
    "print(\"SMOTE 1\")\n",
    "display(Different_models_imbalance_3) \n",
    "\n"
   ]
  },
  {
   "cell_type": "code",
   "execution_count": null,
   "id": "288ae050",
   "metadata": {},
   "outputs": [],
   "source": [
    "# The best models so far:\n",
    "# Linear regression, naive bayese"
   ]
  },
  {
   "cell_type": "markdown",
   "id": "8d50a415",
   "metadata": {},
   "source": [
    "### Adjusting hyper parameters"
   ]
  },
  {
   "cell_type": "markdown",
   "id": "49a87c76",
   "metadata": {},
   "source": [
    "Reminder: We are focused on maximizing recall of our model.\n",
    "\n",
    "We will adjust parameters for the following models:\n",
    "1) Logistic regression:\n",
    "+ This model shows good recall score with solved imbalance problem.\n",
    "+ This models tend not to overfit\n",
    "+ This model is easy to interprete, so we can find what parameters influence the most our prediction. \n",
    "\n",
    "2) Naive Bayese:\n",
    "+ This model shows the best recall score with solved imbalance problem.\n",
    "+ This models tend not to overfit\n",
    "+ Speed performance allows us to make parameters tune within short period of time\n"
   ]
  },
  {
   "cell_type": "markdown",
   "id": "f353f967",
   "metadata": {},
   "source": [
    "##### Naive Bayese hyperparameters tuning "
   ]
  },
  {
   "cell_type": "code",
   "execution_count": null,
   "id": "f8432348",
   "metadata": {},
   "outputs": [],
   "source": [
    "# Lets start with Naive Bayes\n",
    "# Define function that we will use in our model\n",
    "def hyper_tune(df, predict,  model = LogisticRegression(max_iter = 1000), cv = 3, grid = None):\n",
    "    # Timing, for debugging and comparison purposes\n",
    "    start = time.time()\n",
    "    \n",
    "    # Defince our y and X\n",
    "    y = df[predict]\n",
    "    X = df.drop(predict, axis = 1)\n",
    "    \n",
    "    # Split data to train and test. Train data will be used for model validation, test data for model verification.\n",
    "    X_train, X_test, y_train, y_test = train_test_split(X, y, test_size = 0.25, random_state = 42)\n",
    "    \n",
    "    # Define our model\n",
    "    model_used = model\n",
    "    \n",
    "    # One hot encode of categorical data. There is no numerical in this dataset so we will OHE before splitting to \n",
    "    # train and validation. \n",
    "    ohe = OneHotEncoder(drop = 'first', handle_unknown= \"ignore\")\n",
    "    ohe.fit(X_train)\n",
    "    X_train_ohe = pd.DataFrame(ohe.transform(X_train).todense(), columns = ohe.get_feature_names_out())\n",
    "    X_test_ohe = pd.DataFrame(ohe.transform(X_test).todense(), columns = ohe.get_feature_names_out())\n",
    "    \n",
    "    # Imbalance problem\n",
    "    X_train_sm, y_train_sm = sm.fit_resample(X_train_ohe, y_train)\n",
    "    \n",
    "    # GridSearch\n",
    "    grid_results = GridSearchCV(estimator = model, param_grid = grid, scoring = (\"recall\", \"accuracy\"), refit = \"recall\")\n",
    "    grid_results.fit(X_train_sm, y_train_sm)\n",
    "    \n",
    "    return (grid_results, X_test_ohe, y_test)\n",
    "\n",
    "\n",
    "\n",
    "\n"
   ]
  },
  {
   "cell_type": "code",
   "execution_count": null,
   "id": "420ad4ec",
   "metadata": {},
   "outputs": [],
   "source": [
    "# Define class imbalance problem solving strategy as number 3 that we used before.\n",
    "sm = SMOTE(sampling_strategy = 1, random_state = 42)\n",
    "model = MultinomialNB()\n",
    "tune_grid = {\"alpha\":[0.01, 0.1, 0.5, 1, 10]}\n",
    "\n",
    "results = hyper_tune(injury_1, \"modif_INJURIES_TOTAL\", model, cv = 4, grid = tune_grid)\n"
   ]
  },
  {
   "cell_type": "code",
   "execution_count": null,
   "id": "f03aa90a",
   "metadata": {},
   "outputs": [],
   "source": [
    "# Best parameters for our prediction model\n",
    "print(f\"Best parameter:\", results[0].best_params_)\n",
    "print(f\"Best recall {results[0].best_score_}\")\n",
    "X_test_recall = recall_score(results[2], results[0].best_estimator_.predict(results[1]))\n",
    "print(f\"prediction on test set:\",round(X_test_recall,4))\n"
   ]
  },
  {
   "cell_type": "code",
   "execution_count": null,
   "id": "7587bed9",
   "metadata": {},
   "outputs": [],
   "source": [
    "# Lets try different modification of Naive Bayes from SKLearn library\n",
    "# ComplementNB, BernoulliNB, GaussianNB"
   ]
  },
  {
   "cell_type": "code",
   "execution_count": null,
   "id": "a1bb0752",
   "metadata": {},
   "outputs": [],
   "source": [
    "# ComplementNB\n",
    "sm = SMOTE(sampling_strategy = 1, random_state = 42)\n",
    "model = ComplementNB()\n",
    "tune_grid = {\"alpha\":[0.01, 0.1, 0.5, 1, 10]}\n",
    "\n",
    "results = hyper_tune(injury_1, \"modif_INJURIES_TOTAL\", model, cv = 4, grid = tune_grid)\n",
    "print(f\"Best parameter:\", results[0].best_params_)\n",
    "print(f\"Best recall {results[0].best_score_}\")\n",
    "X_test_recall = recall_score(results[2], results[0].best_estimator_.predict(results[1]))\n",
    "print(f\"prediction on test set:\",round(X_test_recall,4))"
   ]
  },
  {
   "cell_type": "code",
   "execution_count": null,
   "id": "1dc9fe44",
   "metadata": {},
   "outputs": [],
   "source": [
    "#BernoulliNB\n",
    "sm = SMOTE(sampling_strategy = 1, random_state = 42)\n",
    "model = BernoulliNB()\n",
    "tune_grid = {\"alpha\":[0.01, 0.1, 0.5, 1, 10]}\n",
    "\n",
    "results = hyper_tune(injury_1, \"modif_INJURIES_TOTAL\", model, cv = 4, grid = tune_grid)\n",
    "print(f\"Best parameter:\", results[0].best_params_)\n",
    "print(f\"Best recall {results[0].best_score_}\")\n",
    "X_test_recall = recall_score(results[2], results[0].best_estimator_.predict(results[1]))\n",
    "print(f\"prediction on test set:\",round(X_test_recall,4))"
   ]
  },
  {
   "cell_type": "code",
   "execution_count": null,
   "id": "f2c7b152",
   "metadata": {},
   "outputs": [],
   "source": [
    "#GaussianNB\n",
    "sm = SMOTE(sampling_strategy = 1, random_state = 42)\n",
    "model = GaussianNB()\n",
    "tune_grid = {\"var_smoothing\":[0.01, 0.1, 0.5, 1, 10, 100]}\n",
    "\n",
    "results = hyper_tune(injury_1, \"modif_INJURIES_TOTAL\", model, cv = 4, grid = tune_grid)\n",
    "print(f\"Best parameter:\", results[0].best_params_)\n",
    "print(f\"Best recall {results[0].best_score_}\")\n",
    "X_test_recall = recall_score(results[2], results[0].best_estimator_.predict(results[1]))\n",
    "print(f\"prediction on test set:\",round(X_test_recall,4))"
   ]
  },
  {
   "cell_type": "code",
   "execution_count": null,
   "id": "ff3c3a45",
   "metadata": {},
   "outputs": [],
   "source": [
    "# impressive recall score. Lets check full report to investigate this case in more details.\n",
    "results[0].cv_results_"
   ]
  },
  {
   "cell_type": "code",
   "execution_count": null,
   "id": "666462cb",
   "metadata": {},
   "outputs": [],
   "source": [
    "finall_model_selection = pd.DataFrame(columns = columns_df)\n"
   ]
  },
  {
   "cell_type": "code",
   "execution_count": null,
   "id": "df3f7570",
   "metadata": {},
   "outputs": [],
   "source": [
    "# It might looks like a good result, but we should remember that model performs training/testing splits on modified dataset.\n",
    "# For finall validation we will check the model using our old function and visially inspect confusion matrix.\n",
    "# Plug in the values into the function that we used before, to see the full confusion matrix\n",
    "Model_list = {\"Naive Bayes Tuned\": GaussianNB(var_smoothing = 0.1)}\n",
    "sm = SMOTE(sampling_strategy = 1, random_state = 42)\n",
    "\n",
    "for key, value in Model_list.items():\n",
    "    resultsNB = get_score2(injury_1, \"modif_INJURIES_TOTAL\", value);\n",
    "    line = pd.DataFrame(np.array([[key, round(resultsNB[0], 4), round(resultsNB[1], 4), round(resultsNB[2], 4), round(resultsNB[3], 4), round(resultsNB[4],4), round(resultsNB[5],4), round(resultsNB[6],4)]]), columns = columns_check)\n",
    "    finall_model_selection = pd.concat([finall_model_selection,line], axis = 0)\n"
   ]
  },
  {
   "cell_type": "markdown",
   "id": "623d994d",
   "metadata": {},
   "source": [
    "##### Logistic regression hyperparameters tuning "
   ]
  },
  {
   "cell_type": "code",
   "execution_count": null,
   "id": "1e0675a1",
   "metadata": {},
   "outputs": [],
   "source": [
    "#  We define our grid and start parameters tuning. \n",
    "sm = SMOTE(sampling_strategy = 1, random_state = 42)\n",
    "model = LogisticRegression()\n",
    "tune_grid = {\"max_iter\":[1000],\n",
    "             \"penalty\": [\"l2\", \"elasticnet\"], \n",
    "             \"C\" : [0.001, 0.01, 0.1, 1, 10, 100],\n",
    "             \"solver\":[\"lbfgs\", \"saga\", \"liblinear\"]}\n",
    "\n",
    "results_logistic = hyper_tune(injury_1, \"modif_INJURIES_TOTAL\", model, cv = 4, grid = tune_grid)\n",
    "\n",
    "results_logistic[0]"
   ]
  },
  {
   "cell_type": "code",
   "execution_count": null,
   "id": "dbe9a11f",
   "metadata": {},
   "outputs": [],
   "source": [
    "cv_results = pd.DataFrame(results_logistic[0].cv_results_)\n"
   ]
  },
  {
   "cell_type": "code",
   "execution_count": null,
   "id": "81f2dff6",
   "metadata": {},
   "outputs": [],
   "source": []
  },
  {
   "cell_type": "code",
   "execution_count": null,
   "id": "92f45160",
   "metadata": {},
   "outputs": [],
   "source": [
    "params_logistic = results_logistic[0].best_params_"
   ]
  },
  {
   "cell_type": "code",
   "execution_count": null,
   "id": "ec8c6969",
   "metadata": {},
   "outputs": [],
   "source": [
    "# Parameters of the best logistic regression after search for the best hyper parameters\n",
    "params_logistic"
   ]
  },
  {
   "cell_type": "code",
   "execution_count": null,
   "id": "3954c2b4",
   "metadata": {},
   "outputs": [],
   "source": [
    "Model_list = {\"Logistic regression tuned\": LogisticRegression(C =0.001, max_iter=1000, penalty=\"l2\", solver = 'liblinear')}\n",
    "sm = SMOTE(sampling_strategy = 1, random_state = 42)\n",
    "\n",
    "for key, value in Model_list.items():\n",
    "    results_logistic_tuned = get_score2(injury_1, \"modif_INJURIES_TOTAL\", value);\n",
    "    line = pd.DataFrame(np.array([[key, round(results_logistic_tuned[0], 4), round(results_logistic_tuned[1], 4), round(results_logistic_tuned[2], 4), round(results_logistic_tuned[3], 4), round(results_logistic_tuned[4],4), round(results_logistic_tuned[5],4), round(results_logistic_tuned[6],4)]]), columns = columns_check)\n",
    "    finall_model_selection = pd.concat([finall_model_selection,line], axis = 0)\n"
   ]
  },
  {
   "cell_type": "markdown",
   "id": "c89c3cfa",
   "metadata": {},
   "source": [
    "### Final model selection:"
   ]
  },
  {
   "cell_type": "code",
   "execution_count": null,
   "id": "457ff543",
   "metadata": {},
   "outputs": [],
   "source": [
    "final_model = pd.concat([finall_model_selection, \n",
    "                        pd.DataFrame(Different_models_imbalance_3.iloc[0]).T, \n",
    "                        pd.DataFrame(Different_models_imbalance_3.iloc[1]).T,\n",
    "                        pd.DataFrame(Different_models_imbalance_3.iloc[3]).T], axis = 0)\n",
    "final_model"
   ]
  },
  {
   "cell_type": "code",
   "execution_count": null,
   "id": "f6cd6aa1",
   "metadata": {},
   "outputs": [],
   "source": [
    "# Our finall model list include \n",
    "# We will proceed with logistic regression tuned (model 2 from our list)\n",
    "final_model = results_logistic_tuned[7]\n",
    "\n",
    "# We considered the following:\n",
    "# 1) Good recall perfromance(our target metrics) with good accuracy score. \n",
    "# 2) Well feneralize and perform with unseen data(test data)\n",
    "# 3) Easy to interprete output factors\n",
    "# 4) Fast performance. \n",
    "\n",
    "\n"
   ]
  },
  {
   "cell_type": "code",
   "execution_count": null,
   "id": "f6f28d50",
   "metadata": {},
   "outputs": [],
   "source": [
    "final_model.coef_[0]"
   ]
  },
  {
   "cell_type": "markdown",
   "id": "7c2871cc",
   "metadata": {},
   "source": [
    "#### We will proceed with logistic regression tuned (model 2 from our list)"
   ]
  },
  {
   "cell_type": "markdown",
   "id": "b625104c",
   "metadata": {},
   "source": [
    "### Breakdown into different parameters that influence our model performance"
   ]
  },
  {
   "cell_type": "code",
   "execution_count": null,
   "id": "8e25ef83",
   "metadata": {},
   "outputs": [],
   "source": [
    "\n",
    "list_factors = []\n",
    "\n",
    "for i in list(range(len(final_model.feature_names_in_))):\n",
    "    tu = tuple([final_model.feature_names_in_[i], final_model.coef_[0][i]])\n",
    "    list_factors.append(tu)\n",
    "    \n",
    "\n"
   ]
  },
  {
   "cell_type": "code",
   "execution_count": null,
   "id": "c7c754c7",
   "metadata": {},
   "outputs": [],
   "source": [
    "# Negative influence (reduce probablilty of injuries during car crash)\n",
    "Biggest_negative_influence = sorted(list_factors, key = lambda x : x[1])[:10]\n",
    "\n"
   ]
  },
  {
   "cell_type": "code",
   "execution_count": null,
   "id": "1e587c30",
   "metadata": {},
   "outputs": [],
   "source": [
    "# Positive influence (increase probablilty of injuries during car crash)\n",
    "\n",
    "Biggest_influence = sorted(list_factors, key = lambda x : x[1], reverse = True)[:10]"
   ]
  },
  {
   "cell_type": "code",
   "execution_count": null,
   "id": "35fa490c",
   "metadata": {},
   "outputs": [],
   "source": [
    "Biggest_negative_influence = pd.DataFrame(Biggest_negative_influence, columns = [\"Reason\", \"Influence\"])"
   ]
  },
  {
   "cell_type": "code",
   "execution_count": null,
   "id": "9eebe7dd",
   "metadata": {},
   "outputs": [],
   "source": [
    "Biggest_influence = pd.DataFrame(Biggest_influence, columns = [\"Reason\", \"Influence\"])"
   ]
  },
  {
   "cell_type": "code",
   "execution_count": null,
   "id": "7a0980f4",
   "metadata": {},
   "outputs": [],
   "source": [
    "Biggest_influence"
   ]
  },
  {
   "cell_type": "code",
   "execution_count": null,
   "id": "963655b6",
   "metadata": {},
   "outputs": [],
   "source": [
    "# Lets make a graph with main contributors\n",
    "y_labels = [\"Crash with Pedestrian\", \"Crash with pedalcyclist\", \"Multiple cars(>2)\", \"Failed to yield right-of-way\", \"Damage over 1500$\", \"Speed zone Urban(20-30mph)\", \"Disregarding traffic signals\", \"Intersection crash\", \"Physical condition of driver\", \"Failing to reduce speed to avoid crash\" ]\n",
    "fig, ax = plt.subplots(figsize=(14, 8))\n",
    "sns.barplot(data = Biggest_influence, y = \"Reason\", x = \"Influence\", )\n",
    "ax.set_xlabel(\"Influence\")\n",
    "ax.set_ylabel(\"Car crash root\")\n",
    "ax.set_title(\"Main contributors to car crashes\")\n",
    "ax.set_yticklabels(y_labels);\n",
    "plt.savefig(\"./img/Main_contributors.png\")\n"
   ]
  },
  {
   "cell_type": "code",
   "execution_count": null,
   "id": "f1a609dd",
   "metadata": {},
   "outputs": [],
   "source": [
    "# Lets make a graph with parameters reduce the probability\n",
    "\n",
    "y_labels = [\"Crash with parked vehicle\", \"Sideswipe same directon\", \"Damage 500-1500$\", \"Crash on parking\", \"One way road\", \"2 units crash\", \"Improper backing\", \"Parking speed zone(0-15mph)\", \"Winter\", \"Crash with rear bumper\" ]\n",
    "fig, ax = plt.subplots(figsize=(14, 8))\n",
    "sns.barplot(data = Biggest_negative_influence, y = \"Reason\", x = \"Influence\")\n",
    "ax.set_xlabel(\"Influence\")\n",
    "ax.set_ylabel(\"Preventing factors\")\n",
    "ax.set_title(\"Main factors preventing getting injuries during car crashes\")\n",
    "ax.set_yticklabels(y_labels);\n",
    "plt.savefig(\"./img/Main_preventive_factors.png\")"
   ]
  },
  {
   "cell_type": "markdown",
   "id": "a3468e98",
   "metadata": {},
   "source": [
    "# Conclusion\n",
    "---\n",
    "For our finalized model we used LinearRegression because of the following reasons: \n",
    "1) It is easy to interprete.\n",
    "\n",
    "2) It have good recall compared to the other models, without much sacrifice in precision. \n",
    "\n",
    "\n",
    "Overall, this data tells us that injuries during car crashes can be predicted and we can see tha major factors that influence it. These modeling results correspond to our observations during data exploration phase"
   ]
  }
 ],
 "metadata": {
  "kernelspec": {
   "display_name": "Python 3 (ipykernel)",
   "language": "python",
   "name": "python3"
  },
  "language_info": {
   "codemirror_mode": {
    "name": "ipython",
    "version": 3
   },
   "file_extension": ".py",
   "mimetype": "text/x-python",
   "name": "python",
   "nbconvert_exporter": "python",
   "pygments_lexer": "ipython3",
   "version": "3.8.12"
  }
 },
 "nbformat": 4,
 "nbformat_minor": 5
}
